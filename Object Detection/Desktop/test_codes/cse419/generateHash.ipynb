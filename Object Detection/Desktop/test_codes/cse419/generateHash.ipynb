{
 "cells": [
  {
   "cell_type": "code",
   "execution_count": null,
   "id": "e682cb6c",
   "metadata": {},
   "outputs": [],
   "source": []
  },
  {
   "cell_type": "code",
   "execution_count": 2,
   "id": "ffdd8a71",
   "metadata": {},
   "outputs": [
    {
     "name": "stdout",
     "output_type": "stream",
     "text": [
      "Enter multiple value: 1,2,3\n",
      "Number of list is:  [1, 2, 3]\n"
     ]
    }
   ],
   "source": [
    "\n"
   ]
  },
  {
   "cell_type": "code",
   "execution_count": 1,
   "id": "0d6c7112",
   "metadata": {},
   "outputs": [
    {
     "name": "stdout",
     "output_type": "stream",
     "text": [
      "Enter multiple value: a,b,e\n",
      "Number of list is:  ['a', 'b', 'e']\n",
      "Enter multiple value: a,b,c\n",
      "Number of list is:  ['a', 'b', 'c']\n",
      "Enter multiple value: a,b,d\n",
      "Number of list is:  ['a', 'b', 'd']\n",
      "Enter multiple value: a,b,i\n",
      "Number of list is:  ['a', 'b', 'i']\n",
      "Enter multiple value: b,c,f\n",
      "Number of list is:  ['b', 'c', 'f']\n",
      "Enter multiple value: b,d,g\n",
      "Number of list is:  ['b', 'd', 'g']\n",
      "Enter multiple value: b,f,h\n",
      "Number of list is:  ['b', 'f', 'h']\n",
      "Enter multiple value: c,g,i\n",
      "Number of list is:  ['c', 'g', 'i']\n",
      "Enter multiple value: c,d,f\n",
      "Number of list is:  ['c', 'd', 'f']\n",
      "Enter multiple value: d,e,f\n",
      "Number of list is:  ['d', 'e', 'f']\n",
      "Enter multiple value: d,i,g\n",
      "Number of list is:  ['d', 'i', 'g']\n",
      "Enter multiple value: a,g,e\n",
      "Number of list is:  ['a', 'g', 'e']\n",
      "Enter multiple value: f,j,g\n",
      "Number of list is:  ['f', 'j', 'g']\n",
      "Enter multiple value: e,h,b\n",
      "Number of list is:  ['e', 'h', 'b']\n",
      "Enter multiple value: d,j,g\n",
      "Number of list is:  ['d', 'j', 'g']\n"
     ]
    }
   ],
   "source": [
    "\n",
    "candidate = length = 3\n",
    "numberOfItems = 15\n",
    "tableCol = []\n",
    "tableData = []\n",
    "\n",
    "for i in range(numberOfItems):\n",
    "    tableRow = []\n",
    "    # taking multiple inputs at a time separated by comma\n",
    "    val = [(val) for val in input(\"Enter multiple value: \").split(\",\")] #for string input remove the typecasting\n",
    "    print(\"Number of list is: \", val)\n",
    "    for j in range(candidate):\n",
    "        tableRow.append(val[j]) #for string input remove the typecasting\n",
    "        \n",
    "    tableCol.append(tableRow)"
   ]
  },
  {
   "cell_type": "code",
   "execution_count": 2,
   "id": "c4805b2b",
   "metadata": {},
   "outputs": [
    {
     "name": "stdout",
     "output_type": "stream",
     "text": [
      "[['a', 'b', 'e'], ['a', 'b', 'c'], ['a', 'b', 'd'], ['a', 'b', 'i'], ['b', 'c', 'f'], ['b', 'd', 'g'], ['b', 'f', 'h'], ['c', 'g', 'i'], ['c', 'd', 'f'], ['d', 'e', 'f'], ['d', 'i', 'g'], ['a', 'g', 'e'], ['f', 'j', 'g'], ['e', 'h', 'b'], ['d', 'j', 'g']]\n"
     ]
    }
   ],
   "source": [
    "tableData = tableCol\n",
    "print(tableData)"
   ]
  },
  {
   "cell_type": "code",
   "execution_count": 3,
   "id": "cec992da",
   "metadata": {},
   "outputs": [],
   "source": [
    "#Ppython program to check if two\n",
    "# to get unique values from list\n",
    "# using numpy.unique\n",
    "import numpy as np\n",
    " \n",
    "# function to get unique values\n",
    "def unique(list1):\n",
    "    x = np.array(list1)\n",
    "    return np.unique(x)"
   ]
  },
  {
   "cell_type": "code",
   "execution_count": 4,
   "id": "6087f45f",
   "metadata": {},
   "outputs": [],
   "source": [
    "uniqueItemset = unique(tableData)"
   ]
  },
  {
   "cell_type": "code",
   "execution_count": 17,
   "id": "d4e974f4",
   "metadata": {},
   "outputs": [
    {
     "name": "stdout",
     "output_type": "stream",
     "text": [
      "['a' 'b' 'c' 'd' 'e' 'f' 'g' 'h' 'i' 'j']\n"
     ]
    }
   ],
   "source": [
    "print(uniqueItemset)"
   ]
  },
  {
   "cell_type": "code",
   "execution_count": 33,
   "id": "04903a72",
   "metadata": {},
   "outputs": [
    {
     "data": {
      "text/plain": [
       "0"
      ]
     },
     "execution_count": 33,
     "metadata": {},
     "output_type": "execute_result"
    }
   ],
   "source": [
    "3%3"
   ]
  },
  {
   "cell_type": "code",
   "execution_count": 34,
   "id": "7d640f1d",
   "metadata": {},
   "outputs": [],
   "source": [
    "y = []\n",
    "hashValue = 0\n",
    "set1 = []\n",
    "set2 = []\n",
    "set3 = []\n",
    "for i in uniqueItemset:\n",
    "    k = np.where(uniqueItemset==i)[0][0] #if it's a string,otherwise comment this portion out and replace \"k with i\"in next line\n",
    "    hashValue = k%length\n",
    "    if hashValue == 0:\n",
    "        set1.append(uniqueItemset[k])\n",
    "    elif hashValue == 1:\n",
    "        set2.append(uniqueItemset[k])\n",
    "    else:\n",
    "        set3.append(uniqueItemset[k])\n",
    "    y.append(hashValue)"
   ]
  },
  {
   "cell_type": "code",
   "execution_count": 29,
   "id": "b596602c",
   "metadata": {},
   "outputs": [],
   "source": [
    "uniqueHash = unique(y) #unique list of hash function\n",
    "lengthOfHash = uniqueHash.shape[0] #how many hash type do we have\n"
   ]
  },
  {
   "cell_type": "code",
   "execution_count": 91,
   "id": "f79effe1",
   "metadata": {},
   "outputs": [
    {
     "name": "stdout",
     "output_type": "stream",
     "text": [
      "[0 1 2]\n",
      "L = ['a', 'd', 'g', 'j']\n",
      "M = ['b', 'e', 'h']\n",
      "R = ['c', 'f', 'i']\n"
     ]
    }
   ],
   "source": [
    "print(uniqueHash)\n",
    "print(\"L = \",end=\"\")\n",
    "print(set1)\n",
    "print(\"M = \",end=\"\")\n",
    "print(set2)\n",
    "print(\"R = \",end=\"\")\n",
    "print(set3)"
   ]
  },
  {
   "cell_type": "code",
   "execution_count": 64,
   "id": "0f2a5052",
   "metadata": {},
   "outputs": [],
   "source": [
    "import random"
   ]
  },
  {
   "cell_type": "code",
   "execution_count": 65,
   "id": "4a9d1d6e",
   "metadata": {},
   "outputs": [],
   "source": [
    "random.shuffle(tableData)"
   ]
  },
  {
   "cell_type": "code",
   "execution_count": 66,
   "id": "b1d96729",
   "metadata": {},
   "outputs": [
    {
     "name": "stdout",
     "output_type": "stream",
     "text": [
      "[['c', 'g', 'i'], ['c', 'd', 'f'], ['f', 'j', 'g'], ['a', 'b', 'd'], ['a', 'g', 'e'], ['d', 'j', 'g'], ['a', 'b', 'e'], ['b', 'd', 'g'], ['a', 'b', 'c'], ['d', 'i', 'g'], ['e', 'h', 'b'], ['d', 'e', 'f'], ['b', 'c', 'f'], ['a', 'b', 'i'], ['b', 'f', 'h']]\n"
     ]
    }
   ],
   "source": [
    "\n",
    "print(tableData)"
   ]
  },
  {
   "cell_type": "code",
   "execution_count": null,
   "id": "c8aeaa1c",
   "metadata": {},
   "outputs": [],
   "source": []
  },
  {
   "cell_type": "code",
   "execution_count": 322,
   "id": "7ff75da2",
   "metadata": {},
   "outputs": [],
   "source": [
    "index = 0\n",
    "treePos = []\n",
    "# for integer itemset run this\n",
    "for row in tableData:\n",
    "    string = ''\n",
    "    for val in row:\n",
    "        mod = val%length\n",
    "        if mod==1:\n",
    "            string = string+'L'\n",
    "        elif mod ==2:\n",
    "            string = string+'M'\n",
    "        else:\n",
    "            string = string+'R'\n",
    "    treePos.append(string)    "
   ]
  },
  {
   "cell_type": "code",
   "execution_count": 67,
   "id": "394fd424",
   "metadata": {},
   "outputs": [],
   "source": [
    "index = 0\n",
    "treePos = []\n",
    "#for string itemset run this\n",
    "for row in tableData:\n",
    "    string = ''\n",
    "    for val in row:\n",
    "        k = np.where(uniqueItemset==val)[0][0]\n",
    "        mod = (k+1)%length\n",
    "        if mod==1:\n",
    "            string = string+'L'\n",
    "        elif mod ==2:\n",
    "            string = string+'M'\n",
    "        else:\n",
    "            string = string+'R'\n",
    "    treePos.append(string)  "
   ]
  },
  {
   "cell_type": "code",
   "execution_count": 68,
   "id": "1c54723e",
   "metadata": {},
   "outputs": [
    {
     "name": "stdout",
     "output_type": "stream",
     "text": [
      "[['c', 'g', 'i'], ['c', 'd', 'f'], ['f', 'j', 'g'], ['a', 'b', 'd'], ['a', 'g', 'e'], ['d', 'j', 'g'], ['a', 'b', 'e'], ['b', 'd', 'g'], ['a', 'b', 'c'], ['d', 'i', 'g'], ['e', 'h', 'b'], ['d', 'e', 'f'], ['b', 'c', 'f'], ['a', 'b', 'i'], ['b', 'f', 'h']]\n",
      "['RLR', 'RLR', 'RLL', 'LML', 'LLM', 'LLL', 'LMM', 'MLL', 'LMR', 'LRL', 'MMM', 'LMR', 'MRR', 'LMR', 'MRM']\n"
     ]
    }
   ],
   "source": [
    "print(tableData)\n",
    "print((treePos))"
   ]
  },
  {
   "cell_type": "code",
   "execution_count": 69,
   "id": "c4d55043",
   "metadata": {},
   "outputs": [],
   "source": [
    "# Swap function\n",
    "def swapPositions(list, pos1, pos2):\n",
    "    list[pos1], list[pos2] = list[pos2], list[pos1]\n",
    "    return list"
   ]
  },
  {
   "cell_type": "code",
   "execution_count": 70,
   "id": "9ffd1a82",
   "metadata": {},
   "outputs": [],
   "source": [
    "newTreePos = sorted(treePos)"
   ]
  },
  {
   "cell_type": "code",
   "execution_count": 71,
   "id": "922eb964",
   "metadata": {},
   "outputs": [
    {
     "name": "stdout",
     "output_type": "stream",
     "text": [
      "['RLR', 'RLR', 'RLL', 'LML', 'LLM', 'LLL', 'LMM', 'MLL', 'LMR', 'LRL', 'MMM', 'LMR', 'MRR', 'LMR', 'MRM']\n",
      "6\n",
      "['LLL', 'LLM', 'LML', 'LMM', 'LMR', 'LMR', 'LMR', 'LRL', 'MLL', 'MMM', 'MRM', 'MRR', 'RLL', 'RLR', 'RLR']\n",
      "3\n",
      "['LLL', 'LLM', 'LML', 'LMM', 'LMR', 'LMR', 'LMR', 'LRL', 'MLL', 'MMM', 'MRM', 'MRR', 'RLL', 'RLR', 'RLR']\n"
     ]
    }
   ],
   "source": [
    "print(treePos)\n",
    "print(treePos.index('LMM'))\n",
    "print(newTreePos)\n",
    "print(newTreePos.index('LMM'))\n",
    "print(newTreePos)"
   ]
  },
  {
   "cell_type": "code",
   "execution_count": 72,
   "id": "a238ae5a",
   "metadata": {},
   "outputs": [
    {
     "name": "stdout",
     "output_type": "stream",
     "text": [
      "[12, 121, 51, 10, 233, 9]\n"
     ]
    }
   ],
   "source": [
    "a = [12,10,51,121,233,9]\n",
    "b = swapPositions(a,1,3)\n",
    "print(b)"
   ]
  },
  {
   "cell_type": "code",
   "execution_count": 73,
   "id": "a6405073",
   "metadata": {},
   "outputs": [
    {
     "name": "stdout",
     "output_type": "stream",
     "text": [
      "0\n",
      "LLL\n",
      "['LMR', 'RLR', 'RLL', 'LML', 'LLM', 'LLL', 'LMM', 'MLL', 'LMR', 'LRL', 'MMM', 'LMR', 'MRR', 'RLR', 'MRM']\n",
      "['LLL', 'LLM', 'LML', 'LMM', 'LMR', 'LMR', 'LMR', 'LRL', 'MLL', 'MMM', 'MRM', 'MRR', 'RLL', 'DON', 'RLR']\n",
      "\n",
      "0\n",
      "LLL\n",
      "['LLM', 'RLR', 'RLL', 'LML', 'LMR', 'LLL', 'LMM', 'MLL', 'LMR', 'LRL', 'MMM', 'LMR', 'MRR', 'RLR', 'MRM']\n",
      "['LLL', 'LLM', 'LML', 'LMM', 'DON', 'LMR', 'LMR', 'LRL', 'MLL', 'MMM', 'MRM', 'MRR', 'RLL', 'DON', 'RLR']\n",
      "\n",
      "0\n",
      "LLL\n",
      "['RLR', 'LLM', 'RLL', 'LML', 'LMR', 'LLL', 'LMM', 'MLL', 'LMR', 'LRL', 'MMM', 'LMR', 'MRR', 'RLR', 'MRM']\n",
      "['LLL', 'DON', 'LML', 'LMM', 'DON', 'LMR', 'LMR', 'LRL', 'MLL', 'MMM', 'MRM', 'MRR', 'RLL', 'DON', 'RLR']\n",
      "\n",
      "0\n",
      "LLL\n",
      "['MRM', 'LLM', 'RLL', 'LML', 'LMR', 'LLL', 'LMM', 'MLL', 'LMR', 'LRL', 'MMM', 'LMR', 'MRR', 'RLR', 'RLR']\n",
      "['LLL', 'DON', 'LML', 'LMM', 'DON', 'LMR', 'LMR', 'LRL', 'MLL', 'MMM', 'MRM', 'MRR', 'RLL', 'DON', 'DON']\n",
      "\n",
      "0\n",
      "LLL\n",
      "['MMM', 'LLM', 'RLL', 'LML', 'LMR', 'LLL', 'LMM', 'MLL', 'LMR', 'LRL', 'MRM', 'LMR', 'MRR', 'RLR', 'RLR']\n",
      "['LLL', 'DON', 'LML', 'LMM', 'DON', 'LMR', 'LMR', 'LRL', 'MLL', 'MMM', 'DON', 'MRR', 'RLL', 'DON', 'DON']\n",
      "\n",
      "0\n",
      "LLL\n",
      "['LRL', 'LLM', 'RLL', 'LML', 'LMR', 'LLL', 'LMM', 'MLL', 'LMR', 'MMM', 'MRM', 'LMR', 'MRR', 'RLR', 'RLR']\n",
      "['LLL', 'DON', 'LML', 'LMM', 'DON', 'LMR', 'LMR', 'LRL', 'MLL', 'DON', 'DON', 'MRR', 'RLL', 'DON', 'DON']\n",
      "\n",
      "0\n",
      "LLL\n",
      "['MLL', 'LLM', 'RLL', 'LML', 'LMR', 'LLL', 'LMM', 'LRL', 'LMR', 'MMM', 'MRM', 'LMR', 'MRR', 'RLR', 'RLR']\n",
      "['LLL', 'DON', 'LML', 'LMM', 'DON', 'LMR', 'LMR', 'DON', 'MLL', 'DON', 'DON', 'MRR', 'RLL', 'DON', 'DON']\n",
      "\n",
      "0\n",
      "LLL\n",
      "['LMR', 'LLM', 'RLL', 'LML', 'LMR', 'LLL', 'LMM', 'LRL', 'MLL', 'MMM', 'MRM', 'LMR', 'MRR', 'RLR', 'RLR']\n",
      "['LLL', 'DON', 'LML', 'LMM', 'DON', 'LMR', 'LMR', 'DON', 'DON', 'DON', 'DON', 'MRR', 'RLL', 'DON', 'DON']\n",
      "\n",
      "0\n",
      "LLL\n",
      "['LLL', 'LLM', 'RLL', 'LML', 'LMR', 'LMR', 'LMM', 'LRL', 'MLL', 'MMM', 'MRM', 'LMR', 'MRR', 'RLR', 'RLR']\n",
      "['LLL', 'DON', 'LML', 'LMM', 'DON', 'DON', 'LMR', 'DON', 'DON', 'DON', 'DON', 'MRR', 'RLL', 'DON', 'DON']\n",
      "\n",
      "0\n",
      "LLL\n",
      "['LLL', 'LLM', 'RLL', 'LML', 'LMR', 'LMR', 'LMM', 'LRL', 'MLL', 'MMM', 'MRM', 'LMR', 'MRR', 'RLR', 'RLR']\n",
      "['DON', 'DON', 'LML', 'LMM', 'DON', 'DON', 'LMR', 'DON', 'DON', 'DON', 'DON', 'MRR', 'RLL', 'DON', 'DON']\n",
      "\n",
      "1\n",
      "DON\n",
      "2\n",
      "LML\n",
      "['LLL', 'LLM', 'MRR', 'LML', 'LMR', 'LMR', 'LMM', 'LRL', 'MLL', 'MMM', 'MRM', 'LMR', 'RLL', 'RLR', 'RLR']\n",
      "['DON', 'DON', 'LML', 'LMM', 'DON', 'DON', 'LMR', 'DON', 'DON', 'DON', 'DON', 'MRR', 'DON', 'DON', 'DON']\n",
      "\n",
      "2\n",
      "LML\n",
      "['LLL', 'LLM', 'LMR', 'LML', 'LMR', 'LMR', 'LMM', 'LRL', 'MLL', 'MMM', 'MRM', 'MRR', 'RLL', 'RLR', 'RLR']\n",
      "['DON', 'DON', 'LML', 'LMM', 'DON', 'DON', 'LMR', 'DON', 'DON', 'DON', 'DON', 'DON', 'DON', 'DON', 'DON']\n",
      "\n",
      "2\n",
      "LML\n",
      "['LLL', 'LLM', 'LMM', 'LML', 'LMR', 'LMR', 'LMR', 'LRL', 'MLL', 'MMM', 'MRM', 'MRR', 'RLL', 'RLR', 'RLR']\n",
      "['DON', 'DON', 'LML', 'LMM', 'DON', 'DON', 'DON', 'DON', 'DON', 'DON', 'DON', 'DON', 'DON', 'DON', 'DON']\n",
      "\n",
      "2\n",
      "LML\n",
      "['LLL', 'LLM', 'LML', 'LMM', 'LMR', 'LMR', 'LMR', 'LRL', 'MLL', 'MMM', 'MRM', 'MRR', 'RLL', 'RLR', 'RLR']\n",
      "['DON', 'DON', 'LML', 'DON', 'DON', 'DON', 'DON', 'DON', 'DON', 'DON', 'DON', 'DON', 'DON', 'DON', 'DON']\n",
      "\n",
      "2\n",
      "LML\n",
      "['LLL', 'LLM', 'LML', 'LMM', 'LMR', 'LMR', 'LMR', 'LRL', 'MLL', 'MMM', 'MRM', 'MRR', 'RLL', 'RLR', 'RLR']\n",
      "['DON', 'DON', 'DON', 'DON', 'DON', 'DON', 'DON', 'DON', 'DON', 'DON', 'DON', 'DON', 'DON', 'DON', 'DON']\n",
      "\n",
      "3\n",
      "DON\n",
      "4\n",
      "DON\n",
      "5\n",
      "DON\n",
      "6\n",
      "DON\n",
      "7\n",
      "DON\n",
      "8\n",
      "DON\n",
      "9\n",
      "DON\n",
      "10\n",
      "DON\n",
      "11\n",
      "DON\n",
      "12\n",
      "DON\n",
      "13\n",
      "DON\n",
      "14\n",
      "DON\n",
      "15\n"
     ]
    }
   ],
   "source": [
    "oldIndex = 0\n",
    "newIndex = 0\n",
    "done = 'DON'\n",
    "for i in range(50):\n",
    "    try:\n",
    "        print(oldIndex)\n",
    "        print(newTreePos[oldIndex])\n",
    "        if newTreePos[oldIndex] == done:\n",
    "            oldIndex+=1\n",
    "            continue\n",
    "\n",
    "        newIndex=newTreePos.index(treePos[oldIndex])\n",
    "\n",
    "        if newIndex == oldIndex:\n",
    "            oldIndex+=1\n",
    "        else:\n",
    "            treePos = swapPositions(treePos,oldIndex,newIndex)\n",
    "            tableData = swapPositions(tableData,oldIndex,newIndex)\n",
    "        newTreePos[newIndex] = 'DON'\n",
    "        print(treePos)\n",
    "        print(newTreePos)\n",
    "        print()\n",
    "    except:\n",
    "        break\n"
   ]
  },
  {
   "cell_type": "code",
   "execution_count": 79,
   "id": "6f17bab0",
   "metadata": {},
   "outputs": [
    {
     "name": "stdout",
     "output_type": "stream",
     "text": [
      "['d', 'j', 'g']\n",
      "['a', 'g', 'e']\n",
      "['a', 'b', 'd']\n",
      "['a', 'b', 'e']\n",
      "['a', 'b', 'i']\n",
      "['a', 'b', 'c']\n",
      "['d', 'e', 'f']\n",
      "['d', 'i', 'g']\n",
      "['b', 'd', 'g']\n",
      "['e', 'h', 'b']\n",
      "['b', 'f', 'h']\n",
      "['b', 'c', 'f']\n",
      "['f', 'j', 'g']\n",
      "['c', 'g', 'i']\n",
      "['c', 'd', 'f']\n",
      "\n",
      "['LLL', 'LLM', 'LML', 'LMM', 'LMR', 'LMR', 'LMR', 'LRL', 'MLL', 'MMM', 'MRM', 'MRR', 'RLL', 'RLR', 'RLR']\n"
     ]
    }
   ],
   "source": [
    "print(*tableData, sep='\\n')\n",
    "print()\n",
    "print(treePos)"
   ]
  },
  {
   "cell_type": "code",
   "execution_count": 89,
   "id": "d88bd94b",
   "metadata": {},
   "outputs": [
    {
     "name": "stdout",
     "output_type": "stream",
     "text": [
      "                               @@@@@@@\n",
      "                              /   |   \\ \n",
      "                             /    |    \\ \n",
      "                            /     |     \\ \n",
      "                           /      |      \\ \n",
      "                          /       |       \\ \n",
      "                         /\n",
      "                        /\n",
      "                       /\n",
      "                      @@@@@@@\n",
      "                     /   |   \\ \n",
      "                    /    |    \\ \n",
      "                   /     |     \\ \n",
      "                  /      |      \\ \n",
      "                 /       |       \\ \n",
      "                 @@@@@@@\n",
      "                /   |   \\ \n",
      "               /    |    \\ \n",
      "              /     |     \\ \n",
      "             /      |      \\ \n",
      "            /       |       \\ \n",
      "          @@@@@@@\n",
      "         /   |   \\ \n",
      "        /    |    \\ \n",
      "       /     |     \\ \n",
      "      /      |      \\ \n",
      "     /       |       \\ \n"
     ]
    }
   ],
   "source": [
    "print(\"                               @@@@@@@\")\n",
    "print(\"                              /   |   \\ \" )\n",
    "print(\"                             /    |    \\ \")\n",
    "print(\"                            /     |     \\ \")\n",
    "print(\"                           /      |      \\ \")\n",
    "print(\"                          /       |       \\ \")\n",
    "print(\"                         /\")\n",
    "print(\"                        /\")\n",
    "print(\"                       /\")\n",
    "print(\"                      @@@@@@@\")\n",
    "print(\"                     /   |   \\ \" )\n",
    "print(\"                    /    |    \\ \")\n",
    "print(\"                   /     |     \\ \")\n",
    "print(\"                  /      |      \\ \")\n",
    "print(\"                 /       |       \\ \")\n",
    "print(\"                 @@@@@@@\")\n",
    "print(\"                /   |   \\ \" )\n",
    "print(\"               /    |    \\ \")\n",
    "print(\"              /     |     \\ \")\n",
    "print(\"             /      |      \\ \")\n",
    "print(\"            /       |       \\ \")\n",
    "print(\"          @@@@@@@\")\n",
    "print(\"         /   |   \\ \" )\n",
    "print(\"        /    |    \\ \")\n",
    "print(\"       /     |     \\ \")\n",
    "print(\"      /      |      \\ \")\n",
    "print(\"     /       |       \\ \")\n",
    "\n"
   ]
  },
  {
   "cell_type": "code",
   "execution_count": null,
   "id": "23c9fc9b",
   "metadata": {},
   "outputs": [],
   "source": []
  }
 ],
 "metadata": {
  "kernelspec": {
   "display_name": "Python 3",
   "language": "python",
   "name": "python3"
  },
  "language_info": {
   "codemirror_mode": {
    "name": "ipython",
    "version": 3
   },
   "file_extension": ".py",
   "mimetype": "text/x-python",
   "name": "python",
   "nbconvert_exporter": "python",
   "pygments_lexer": "ipython3",
   "version": "3.9.2"
  }
 },
 "nbformat": 4,
 "nbformat_minor": 5
}
