{
 "cells": [
  {
   "cell_type": "code",
   "execution_count": 2,
   "id": "8771cc04",
   "metadata": {},
   "outputs": [
    {
     "name": "stdout",
     "output_type": "stream",
     "text": [
      " Input Matrix\n",
      "--------------\n",
      "[[4.   2.   0.6 ]\n",
      " [4.2  2.1  0.59]\n",
      " [3.9  2.   0.58]\n",
      " [4.3  2.1  0.62]\n",
      " [4.1  2.2  0.63]]\n",
      "\n",
      " Covariance Matrix\n",
      "-------------------\n",
      "[[0.025   0.0075  0.00175]\n",
      " [0.0075  0.007   0.00135]\n",
      " [0.00175 0.00135 0.00043]]\n",
      "\n"
     ]
    }
   ],
   "source": [
    "import numpy as np\n",
    "\n",
    "#question no 1\n",
    "X = np.array([[4.0,2.0,0.60],[4.2,2.1,0.59],[3.9,2.0,0.58],[4.3,2.1,0.62],[4.1,2.2,0.63]])\n",
    "Z = np.transpose(X)    \n",
    "print(\" Input Matrix\")\n",
    "print(\"--------------\")\n",
    "print(X)\n",
    "print()\n",
    "print(\" Covariance Matrix\")\n",
    "print(\"-------------------\")\n",
    "covariance = np.cov(Z)\n",
    "print(covariance)\n",
    "print()"
   ]
  },
  {
   "cell_type": "code",
   "execution_count": 5,
   "id": "f6d73d74",
   "metadata": {},
   "outputs": [
    {
     "name": "stdout",
     "output_type": "stream",
     "text": [
      "The Mahalanobis Distance Between (4.3,1.9,0.7) and (3.9,2.0,0.58) is: \n",
      "[[119.83448]]\n"
     ]
    }
   ],
   "source": [
    "#mahanlobis distance question no.2\n",
    "p = np.array([4.3,1.9,0.70])\n",
    "q = np.array([3.9,2.0,0.58])\n",
    "sub = np.array([np.subtract(p,q)])\n",
    "subT = np.transpose(sub)\n",
    "\n",
    "inverse = np.linalg.inv(covariance) \n",
    "inverse = np.around(inverse, decimals=1, out=None)\n",
    "\n",
    "prod1 = np.dot(sub,inverse)\n",
    "result = np.dot(prod1,subT)\n",
    "\n",
    "print(\"The Mahalanobis Distance Between\", end = \" \")\n",
    "print(\"(\"+str(p[0])+','+str(p[1])+','+str(p[2])+\")\", end = \" and \")\n",
    "print(\"(\"+str(q[0])+','+str(q[1])+','+str(q[2])+\")\", end = \" is: \")\n",
    "print()\n",
    "\n",
    "print(result)\n"
   ]
  },
  {
   "cell_type": "code",
   "execution_count": 46,
   "id": "c3e3bbe8",
   "metadata": {},
   "outputs": [
    {
     "ename": "ValueError",
     "evalue": "operands could not be broadcast together with shapes (3,5) (5,3) ",
     "output_type": "error",
     "traceback": [
      "\u001b[1;31m---------------------------------------------------------------------------\u001b[0m",
      "\u001b[1;31mValueError\u001b[0m                                Traceback (most recent call last)",
      "\u001b[1;32m<ipython-input-46-6b99b0a37f91>\u001b[0m in \u001b[0;36m<module>\u001b[1;34m\u001b[0m\n\u001b[0;32m      2\u001b[0m \u001b[1;33m\u001b[0m\u001b[0m\n\u001b[0;32m      3\u001b[0m \u001b[1;31m#print(zCom)\u001b[0m\u001b[1;33m\u001b[0m\u001b[1;33m\u001b[0m\u001b[1;33m\u001b[0m\u001b[0m\n\u001b[1;32m----> 4\u001b[1;33m \u001b[0mX\u001b[0m \u001b[1;33m=\u001b[0m \u001b[0mnp\u001b[0m\u001b[1;33m.\u001b[0m\u001b[0msubtract\u001b[0m\u001b[1;33m(\u001b[0m\u001b[0mx\u001b[0m\u001b[1;33m,\u001b[0m\u001b[0mxCom\u001b[0m\u001b[1;33m)\u001b[0m\u001b[1;33m\u001b[0m\u001b[1;33m\u001b[0m\u001b[0m\n\u001b[0m\u001b[0;32m      5\u001b[0m \u001b[0mprint\u001b[0m\u001b[1;33m(\u001b[0m\u001b[0mX\u001b[0m\u001b[1;33m)\u001b[0m\u001b[1;33m\u001b[0m\u001b[1;33m\u001b[0m\u001b[0m\n\u001b[0;32m      6\u001b[0m \u001b[0mXt\u001b[0m \u001b[1;33m=\u001b[0m \u001b[0mnp\u001b[0m\u001b[1;33m.\u001b[0m\u001b[0mtranspose\u001b[0m\u001b[1;33m(\u001b[0m\u001b[0mX\u001b[0m\u001b[1;33m)\u001b[0m\u001b[1;33m\u001b[0m\u001b[1;33m\u001b[0m\u001b[0m\n",
      "\u001b[1;31mValueError\u001b[0m: operands could not be broadcast together with shapes (3,5) (5,3) "
     ]
    }
   ],
   "source": [
    "xCom = [[4.1,2.08,0.604],[4.1,2.08,0.604],[4.1,2.08,0.604],[4.1,2.08,0.604],[4.1,2.08,0.604]]\n",
    "\n",
    "#print(zCom)\n",
    "X = np.subtract(x,xCom)\n",
    "print(X)\n",
    "Xt = np.transpose(X)\n",
    "print(Xt)\n",
    "result = np.dot(X,Xt)\n",
    "result = result/4\n",
    "#print(result)"
   ]
  },
  {
   "cell_type": "code",
   "execution_count": 8,
   "id": "55dbd788",
   "metadata": {},
   "outputs": [
    {
     "name": "stdout",
     "output_type": "stream",
     "text": [
      "3\n"
     ]
    }
   ],
   "source": [
    "A = np.array([[4,3],[2,1]])\n",
    "B = np.array([4,3])\n",
    "\n",
    "C = np.subtract(A,B)\n",
    "\n",
    "print(A[0][1])\n"
   ]
  },
  {
   "cell_type": "code",
   "execution_count": 32,
   "id": "53373bc3",
   "metadata": {},
   "outputs": [
    {
     "name": "stdout",
     "output_type": "stream",
     "text": [
      "COV(2,2) : 0.00043\n"
     ]
    }
   ],
   "source": [
    "x = np.array([[4.0,2.0,0.60],[4.2,2.1,0.59],[3.9,2.0,0.58],[4.3,2.1,0.62],[4.1,2.2,0.63]])\n",
    "xc = np.array([4.1,2.08,0.604])\n",
    "row = 5\n",
    "j = 3\n",
    "k = 3\n",
    "j-=1\n",
    "k-=1\n",
    "sum = 0\n",
    "result = 0\n",
    "for i in range(row):\n",
    "    sum += (x[i][j]-xc[j])*(x[i][k]-xc[k])\n",
    "    \n",
    "result = round((sum/4),5)\n",
    "print(\"COV(\"+str(j)+\",\"+str(k)+\") : \"+str(result))\n"
   ]
  },
  {
   "cell_type": "code",
   "execution_count": 53,
   "id": "795be9c1",
   "metadata": {},
   "outputs": [
    {
     "name": "stdout",
     "output_type": "stream",
     "text": [
      "[14]\n"
     ]
    }
   ],
   "source": []
  },
  {
   "cell_type": "code",
   "execution_count": null,
   "id": "53315278",
   "metadata": {},
   "outputs": [],
   "source": []
  }
 ],
 "metadata": {
  "kernelspec": {
   "display_name": "Python 3",
   "language": "python",
   "name": "python3"
  },
  "language_info": {
   "codemirror_mode": {
    "name": "ipython",
    "version": 3
   },
   "file_extension": ".py",
   "mimetype": "text/x-python",
   "name": "python",
   "nbconvert_exporter": "python",
   "pygments_lexer": "ipython3",
   "version": "3.9.2"
  }
 },
 "nbformat": 4,
 "nbformat_minor": 5
}
