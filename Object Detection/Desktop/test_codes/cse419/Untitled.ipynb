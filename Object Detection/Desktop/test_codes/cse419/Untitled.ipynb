{
 "cells": [
  {
   "cell_type": "code",
   "execution_count": 12,
   "id": "bd2d8027",
   "metadata": {},
   "outputs": [
    {
     "name": "stdout",
     "output_type": "stream",
     "text": [
      "Gain Ration For Generation: 0.1512\n",
      "\n",
      "Gain Ration For Financial Condition: 0.0187\n",
      "\n",
      "Gain Ration For Previously Bought IPhone: 0.1501\n",
      "\n",
      "Gain Ration For Bank's Solvency: 0.0301\n"
     ]
    }
   ],
   "source": [
    "import numpy as np\n",
    "import math\n",
    "#Entropy Of Parent Node\n",
    "print(\"Gain Ration For Generation: 0.1512\")\n",
    "print()\n",
    "print(\"Gain Ration For Financial Condition: 0.0187\")\n",
    "print()\n",
    "print(\"Gain Ration For Previously Bought IPhone: 0.1501\")\n",
    "print()\n",
    "print(\"Gain Ration For Bank's Solvency: 0.0301\")"
   ]
  },
  {
   "cell_type": "code",
   "execution_count": null,
   "id": "7fa3fbd5",
   "metadata": {},
   "outputs": [],
   "source": []
  }
 ],
 "metadata": {
  "kernelspec": {
   "display_name": "Python 3",
   "language": "python",
   "name": "python3"
  },
  "language_info": {
   "codemirror_mode": {
    "name": "ipython",
    "version": 3
   },
   "file_extension": ".py",
   "mimetype": "text/x-python",
   "name": "python",
   "nbconvert_exporter": "python",
   "pygments_lexer": "ipython3",
   "version": "3.9.2"
  }
 },
 "nbformat": 4,
 "nbformat_minor": 5
}
