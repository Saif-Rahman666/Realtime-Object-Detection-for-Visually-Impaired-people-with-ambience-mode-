{
 "cells": [
  {
   "cell_type": "code",
   "execution_count": 198,
   "id": "d2d8b52c",
   "metadata": {},
   "outputs": [],
   "source": [
    "import numpy as np\n",
    "import math \n",
    "import pandas as pd"
   ]
  },
  {
   "cell_type": "code",
   "execution_count": 162,
   "id": "f4c02eaf",
   "metadata": {},
   "outputs": [],
   "source": [
    "#dimension is dynamically set according to input value \n",
    "def createPoints(numOfPoints):\n",
    "    outputArray = []\n",
    "    for i in range(numOfPoints):\n",
    "        val = input(\"Enter your value: \").split(',')\n",
    "        val = list(map(float, val))\n",
    "        outputArray.append(val)\n",
    "    \n",
    "    return outputArray"
   ]
  },
  {
   "cell_type": "code",
   "execution_count": 163,
   "id": "76b1a4f9",
   "metadata": {},
   "outputs": [
    {
     "name": "stdout",
     "output_type": "stream",
     "text": [
      "Enter your value: 0.40,0.53\n",
      "Enter your value: 0.22,0.38\n",
      "Enter your value: 0.35,0.32\n",
      "Enter your value: 0.26,0.19\n",
      "Enter your value: 0.08,0.49\n",
      "Enter your value: 0.45,0.30\n"
     ]
    }
   ],
   "source": [
    "cluster_array = createPoints(6)"
   ]
  },
  {
   "cell_type": "code",
   "execution_count": 349,
   "id": "fa6072cc",
   "metadata": {},
   "outputs": [
    {
     "data": {
      "text/plain": [
       "[[0.4, 0.53],\n",
       " [0.22, 0.38],\n",
       " [0.35, 0.32],\n",
       " [0.26, 0.19],\n",
       " [0.08, 0.41],\n",
       " [0.45, 0.3]]"
      ]
     },
     "execution_count": 349,
     "metadata": {},
     "output_type": "execute_result"
    }
   ],
   "source": [
    "cluster_array"
   ]
  },
  {
   "cell_type": "code",
   "execution_count": 624,
   "id": "dcf157ac",
   "metadata": {},
   "outputs": [],
   "source": [
    "#Euclidean Distance of an array of points with dynamic dimenstion (could be 2,3,4 and so on)\n",
    "def eDistance(inputArray):\n",
    "    numOfPoints = len(inputArray)\n",
    "    outputArray = np.zeros((numOfPoints,numOfPoints))  \n",
    "    for i in range(len(inputArray)):\n",
    "        for j in range(i+1,len(inputArray)):\n",
    "            if j > i :\n",
    "                subtractedArray = np.subtract(inputArray[i],inputArray[j])\n",
    "                squaredArray = np.square(subtractedArray)\n",
    "                summedArray = np.sum(squaredArray)\n",
    "                sqrtArray = np.sqrt(summedArray)\n",
    "                outputArray[i][j] = sqrtArray.round(2)\n",
    "                outputArray[j][i] = sqrtArray.round(2)\n",
    "    \n",
    "    return outputArray\n",
    "                \n",
    "            "
   ]
  },
  {
   "cell_type": "code",
   "execution_count": 625,
   "id": "79174058",
   "metadata": {},
   "outputs": [
    {
     "name": "stdout",
     "output_type": "stream",
     "text": [
      "[[0.   0.23 0.22 0.37 0.34 0.24]\n",
      " [0.23 0.   0.14 0.19 0.14 0.24]\n",
      " [0.22 0.14 0.   0.16 0.28 0.1 ]\n",
      " [0.37 0.19 0.16 0.   0.28 0.22]\n",
      " [0.34 0.14 0.28 0.28 0.   0.39]\n",
      " [0.24 0.24 0.1  0.22 0.39 0.  ]]\n"
     ]
    }
   ],
   "source": [
    "distance_matrix = eDistance(cluster_array)\n",
    "print(distance_matrix)"
   ]
  },
  {
   "cell_type": "code",
   "execution_count": 604,
   "id": "0b3a3d2a",
   "metadata": {},
   "outputs": [
    {
     "data": {
      "text/plain": [
       "<AxesSubplot:xlabel='[x]', ylabel='[y]'>"
      ]
     },
     "execution_count": 604,
     "metadata": {},
     "output_type": "execute_result"
    },
    {
     "data": {
      "image/png": "[encoded data removed]",
      "text/plain": [
       "<Figure size 432x288 with 1 Axes>"
      ]
     },
     "metadata": {
      "needs_background": "light"
     },
     "output_type": "display_data"
    }
   ],
   "source": [
    "df = pd.DataFrame(cluster_array, columns =['x','y'])\n",
    "df.plot.scatter(x=['x'],y=['y'])\n"
   ]
  },
  {
   "cell_type": "code",
   "execution_count": 589,
   "id": "7b8360d4",
   "metadata": {},
   "outputs": [
    {
     "data": {
      "text/html": [
       "<div>\n",
       "<style scoped>\n",
       "    .dataframe tbody tr th:only-of-type {\n",
       "        vertical-align: middle;\n",
       "    }\n",
       "\n",
       "    .dataframe tbody tr th {\n",
       "        vertical-align: top;\n",
       "    }\n",
       "\n",
       "    .dataframe thead th {\n",
       "        text-align: right;\n",
       "    }\n",
       "</style>\n",
       "<table border=\"1\" class=\"dataframe\">\n",
       "  <thead>\n",
       "    <tr style=\"text-align: right;\">\n",
       "      <th></th>\n",
       "      <th>p1</th>\n",
       "      <th>p2</th>\n",
       "      <th>p3</th>\n",
       "      <th>p4</th>\n",
       "      <th>p5</th>\n",
       "      <th>p6</th>\n",
       "    </tr>\n",
       "  </thead>\n",
       "  <tbody>\n",
       "    <tr>\n",
       "      <th>p1</th>\n",
       "      <td>0.00</td>\n",
       "      <td>0.23</td>\n",
       "      <td>0.22</td>\n",
       "      <td>0.37</td>\n",
       "      <td>0.34</td>\n",
       "      <td>0.24</td>\n",
       "    </tr>\n",
       "    <tr>\n",
       "      <th>p2</th>\n",
       "      <td>0.23</td>\n",
       "      <td>0.00</td>\n",
       "      <td>0.14</td>\n",
       "      <td>0.19</td>\n",
       "      <td>0.14</td>\n",
       "      <td>0.24</td>\n",
       "    </tr>\n",
       "    <tr>\n",
       "      <th>p3</th>\n",
       "      <td>0.22</td>\n",
       "      <td>0.14</td>\n",
       "      <td>0.00</td>\n",
       "      <td>0.16</td>\n",
       "      <td>0.28</td>\n",
       "      <td>0.10</td>\n",
       "    </tr>\n",
       "    <tr>\n",
       "      <th>p4</th>\n",
       "      <td>0.37</td>\n",
       "      <td>0.19</td>\n",
       "      <td>0.16</td>\n",
       "      <td>0.00</td>\n",
       "      <td>0.28</td>\n",
       "      <td>0.22</td>\n",
       "    </tr>\n",
       "    <tr>\n",
       "      <th>p5</th>\n",
       "      <td>0.34</td>\n",
       "      <td>0.14</td>\n",
       "      <td>0.28</td>\n",
       "      <td>0.28</td>\n",
       "      <td>0.00</td>\n",
       "      <td>0.39</td>\n",
       "    </tr>\n",
       "    <tr>\n",
       "      <th>p6</th>\n",
       "      <td>0.24</td>\n",
       "      <td>0.24</td>\n",
       "      <td>0.10</td>\n",
       "      <td>0.22</td>\n",
       "      <td>0.39</td>\n",
       "      <td>0.00</td>\n",
       "    </tr>\n",
       "  </tbody>\n",
       "</table>\n",
       "</div>"
      ],
      "text/plain": [
       "      p1    p2    p3    p4    p5    p6\n",
       "p1  0.00  0.23  0.22  0.37  0.34  0.24\n",
       "p2  0.23  0.00  0.14  0.19  0.14  0.24\n",
       "p3  0.22  0.14  0.00  0.16  0.28  0.10\n",
       "p4  0.37  0.19  0.16  0.00  0.28  0.22\n",
       "p5  0.34  0.14  0.28  0.28  0.00  0.39\n",
       "p6  0.24  0.24  0.10  0.22  0.39  0.00"
      ]
     },
     "execution_count": 589,
     "metadata": {},
     "output_type": "execute_result"
    }
   ],
   "source": [
    "df = pd.DataFrame(distance_matrix, index =['p1', 'p2', 'p3', 'p4', 'p5', 'p6'],columns =['p1', 'p2', 'p3', 'p4', 'p5', 'p6'])\n",
    "df"
   ]
  },
  {
   "cell_type": "code",
   "execution_count": 590,
   "id": "d82b6ac2",
   "metadata": {},
   "outputs": [],
   "source": [
    "distance_matrix[1][2] = 0.15\n",
    "distance_matrix[2][1] = 0.15\n",
    "distance_matrix[3][4] = 0.29\n",
    "distance_matrix[4][3] = 0.29\n",
    "distance_matrix[0][5] = 0.23\n",
    "distance_matrix[5][0] = 0.23\n",
    "distance_matrix[0][1] = 0.24\n",
    "distance_matrix[1][0] = 0.24\n",
    "distance_matrix[1][3] = 0.20\n",
    "distance_matrix[3][1] = 0.20\n",
    "distance_matrix[1][5] = 0.25\n",
    "distance_matrix[5][1] = 0.25\n",
    "distance_matrix[2][3] = 0.15\n",
    "distance_matrix[3][2] = 0.15\n",
    "distance_matrix[2][5] = 0.11\n",
    "distance_matrix[5][2] = 0.11"
   ]
  },
  {
   "cell_type": "code",
   "execution_count": 591,
   "id": "afb12362",
   "metadata": {},
   "outputs": [
    {
     "data": {
      "text/html": [
       "<div>\n",
       "<style scoped>\n",
       "    .dataframe tbody tr th:only-of-type {\n",
       "        vertical-align: middle;\n",
       "    }\n",
       "\n",
       "    .dataframe tbody tr th {\n",
       "        vertical-align: top;\n",
       "    }\n",
       "\n",
       "    .dataframe thead th {\n",
       "        text-align: right;\n",
       "    }\n",
       "</style>\n",
       "<table border=\"1\" class=\"dataframe\">\n",
       "  <thead>\n",
       "    <tr style=\"text-align: right;\">\n",
       "      <th></th>\n",
       "      <th>p1</th>\n",
       "      <th>p2</th>\n",
       "      <th>p3</th>\n",
       "      <th>p4</th>\n",
       "      <th>p5</th>\n",
       "      <th>p6</th>\n",
       "    </tr>\n",
       "  </thead>\n",
       "  <tbody>\n",
       "    <tr>\n",
       "      <th>p1</th>\n",
       "      <td>0.00</td>\n",
       "      <td>0.24</td>\n",
       "      <td>0.22</td>\n",
       "      <td>0.37</td>\n",
       "      <td>0.34</td>\n",
       "      <td>0.23</td>\n",
       "    </tr>\n",
       "    <tr>\n",
       "      <th>p2</th>\n",
       "      <td>0.24</td>\n",
       "      <td>0.00</td>\n",
       "      <td>0.15</td>\n",
       "      <td>0.20</td>\n",
       "      <td>0.14</td>\n",
       "      <td>0.25</td>\n",
       "    </tr>\n",
       "    <tr>\n",
       "      <th>p3</th>\n",
       "      <td>0.22</td>\n",
       "      <td>0.15</td>\n",
       "      <td>0.00</td>\n",
       "      <td>0.15</td>\n",
       "      <td>0.28</td>\n",
       "      <td>0.11</td>\n",
       "    </tr>\n",
       "    <tr>\n",
       "      <th>p4</th>\n",
       "      <td>0.37</td>\n",
       "      <td>0.20</td>\n",
       "      <td>0.15</td>\n",
       "      <td>0.00</td>\n",
       "      <td>0.29</td>\n",
       "      <td>0.22</td>\n",
       "    </tr>\n",
       "    <tr>\n",
       "      <th>p5</th>\n",
       "      <td>0.34</td>\n",
       "      <td>0.14</td>\n",
       "      <td>0.28</td>\n",
       "      <td>0.29</td>\n",
       "      <td>0.00</td>\n",
       "      <td>0.39</td>\n",
       "    </tr>\n",
       "    <tr>\n",
       "      <th>p6</th>\n",
       "      <td>0.23</td>\n",
       "      <td>0.25</td>\n",
       "      <td>0.11</td>\n",
       "      <td>0.22</td>\n",
       "      <td>0.39</td>\n",
       "      <td>0.00</td>\n",
       "    </tr>\n",
       "  </tbody>\n",
       "</table>\n",
       "</div>"
      ],
      "text/plain": [
       "      p1    p2    p3    p4    p5    p6\n",
       "p1  0.00  0.24  0.22  0.37  0.34  0.23\n",
       "p2  0.24  0.00  0.15  0.20  0.14  0.25\n",
       "p3  0.22  0.15  0.00  0.15  0.28  0.11\n",
       "p4  0.37  0.20  0.15  0.00  0.29  0.22\n",
       "p5  0.34  0.14  0.28  0.29  0.00  0.39\n",
       "p6  0.23  0.25  0.11  0.22  0.39  0.00"
      ]
     },
     "execution_count": 591,
     "metadata": {},
     "output_type": "execute_result"
    }
   ],
   "source": [
    "df = pd.DataFrame(distance_matrix, index =['p1', 'p2', 'p3', 'p4', 'p5', 'p6'],columns =['p1', 'p2', 'p3', 'p4', 'p5', 'p6'])\n",
    "df"
   ]
  },
  {
   "cell_type": "markdown",
   "id": "98820ef1",
   "metadata": {},
   "source": [
    "# necessary tricks for python coding\n",
    "#remove the row and column of a matrix\n",
    "distance_matrix_new = distance_matrix[0:-1,0:-1] #selects row from 0 to -1 means the second last one of both row and column\n",
    "\n",
    "#finds the index of the non zero minimum value\n",
    "index = np.where(distance_matrix == np.amin(distance_matrix[np.nonzero(distance_matrix)])) \n",
    "#same thing above with the cordinates separated (this is the one we use)\n",
    "result = np.where(distance_matrix == 0.1)\n",
    "listOfCordinates = list(zip(result[0], result[1]))\n",
    "listOfCordinates[0][1]\n",
    "\n",
    "#set any string user input as the variable name and assign value to it with \"locals()\"\n",
    "string = 'p2'\n",
    "locals()['p1'] = 3 # is equivalent to p1 = 3\n",
    "locals()[string] = 4 # is equivalent to p2 = 4"
   ]
  },
  {
   "cell_type": "code",
   "execution_count": 324,
   "id": "bdfa7041",
   "metadata": {},
   "outputs": [
    {
     "data": {
      "text/plain": [
       "5"
      ]
     },
     "execution_count": 324,
     "metadata": {},
     "output_type": "execute_result"
    }
   ],
   "source": []
  },
  {
   "cell_type": "code",
   "execution_count": null,
   "id": "7ac69c56",
   "metadata": {},
   "outputs": [],
   "source": []
  },
  {
   "cell_type": "code",
   "execution_count": 613,
   "id": "9ca4b753",
   "metadata": {},
   "outputs": [],
   "source": [
    "from tabulate import tabulate"
   ]
  },
  {
   "cell_type": "code",
   "execution_count": 537,
   "id": "b1fdb6f8",
   "metadata": {},
   "outputs": [],
   "source": [
    "#distance_matrix.shape[0] # no. of points"
   ]
  },
  {
   "cell_type": "code",
   "execution_count": 551,
   "id": "bf78400a",
   "metadata": {},
   "outputs": [],
   "source": []
  },
  {
   "cell_type": "code",
   "execution_count": 539,
   "id": "e4c92a77",
   "metadata": {},
   "outputs": [
    {
     "data": {
      "text/plain": [
       "array([[0.  , 0.23, 0.22, 0.37, 0.34, 0.24],\n",
       "       [0.23, 0.  , 0.15, 0.19, 0.14, 0.24],\n",
       "       [0.22, 0.15, 0.  , 0.16, 0.28, 0.1 ],\n",
       "       [0.37, 0.19, 0.16, 0.  , 0.29, 0.22],\n",
       "       [0.34, 0.14, 0.28, 0.29, 0.  , 0.39],\n",
       "       [0.24, 0.24, 0.1 , 0.22, 0.39, 0.  ]])"
      ]
     },
     "execution_count": 539,
     "metadata": {},
     "output_type": "execute_result"
    }
   ],
   "source": []
  },
  {
   "cell_type": "code",
   "execution_count": 614,
   "id": "0820d759",
   "metadata": {},
   "outputs": [
    {
     "name": "stdout",
     "output_type": "stream",
     "text": [
      "+----+----------+----------+----------+----------+----------+----------+\n",
      "|    |        1 |        2 |        3 |        4 |        5 |        6 |\n",
      "+====+==========+==========+==========+==========+==========+==========+\n",
      "|  1 | 0        | 0.234307 | 0.21587  | 0.367696 | 0.34176  | 0.235372 |\n",
      "+----+----------+----------+----------+----------+----------+----------+\n",
      "|  2 | 0.234307 | 0        | 0.143178 | 0.194165 | 0.143178 | 0.243516 |\n",
      "+----+----------+----------+----------+----------+----------+----------+\n",
      "|  3 | 0.21587  | 0.143178 | 0        | 0.158114 | 0.284605 | 0.10198  |\n",
      "+----+----------+----------+----------+----------+----------+----------+\n",
      "|  4 | 0.367696 | 0.194165 | 0.158114 | 0        | 0.284253 | 0.219545 |\n",
      "+----+----------+----------+----------+----------+----------+----------+\n",
      "|  5 | 0.34176  | 0.143178 | 0.284605 | 0.284253 | 0        | 0.386005 |\n",
      "+----+----------+----------+----------+----------+----------+----------+\n",
      "|  6 | 0.235372 | 0.243516 | 0.10198  | 0.219545 | 0.386005 | 0        |\n",
      "+----+----------+----------+----------+----------+----------+----------+\n",
      "0.10198039027185574\n",
      "(3,6)\n",
      "+-------+----------+----------+----------+----------+----------+\n",
      "|       |        1 |        2 |    (3U6) |        4 |        5 |\n",
      "+=======+==========+==========+==========+==========+==========+\n",
      "| 1     | 0        | 0.234307 | 0.21587  | 0.367696 | 0.34176  |\n",
      "+-------+----------+----------+----------+----------+----------+\n",
      "| 2     | 0.234307 | 0        | 0.143178 | 0.194165 | 0.143178 |\n",
      "+-------+----------+----------+----------+----------+----------+\n",
      "| (3U6) | 0.21587  | 0.143178 | 0        | 0.158114 | 0.284605 |\n",
      "+-------+----------+----------+----------+----------+----------+\n",
      "| 4     | 0.367696 | 0.194165 | 0.158114 | 0        | 0.284253 |\n",
      "+-------+----------+----------+----------+----------+----------+\n",
      "| 5     | 0.34176  | 0.143178 | 0.284605 | 0.284253 | 0        |\n",
      "+-------+----------+----------+----------+----------+----------+\n",
      "0.1431782106327635\n",
      "(2,3)\n",
      "+-----------+----------+-------------+----------+----------+\n",
      "|           |        1 |   (2U(3U6)) |        4 |        5 |\n",
      "+===========+==========+=============+==========+==========+\n",
      "| 1         | 0        |    0.21587  | 0.367696 | 0.34176  |\n",
      "+-----------+----------+-------------+----------+----------+\n",
      "| (2U(3U6)) | 0.234307 |    0        | 0.194165 | 0.143178 |\n",
      "+-----------+----------+-------------+----------+----------+\n",
      "| 4         | 0.367696 |    0.158114 | 0        | 0.284253 |\n",
      "+-----------+----------+-------------+----------+----------+\n",
      "| 5         | 0.34176  |    0.143178 | 0.284253 | 0        |\n",
      "+-----------+----------+-------------+----------+----------+\n",
      "0.14317821063276354\n",
      "(2,4)\n",
      "+---------------+----------+-----------------+----------+\n",
      "|               |        1 |   ((2U(3U6))U5) |        4 |\n",
      "+===============+==========+=================+==========+\n",
      "| 1             | 0        |        0.21587  | 0.367696 |\n",
      "+---------------+----------+-----------------+----------+\n",
      "| ((2U(3U6))U5) | 0.234307 |        0        | 0.194165 |\n",
      "+---------------+----------+-----------------+----------+\n",
      "| 4             | 0.367696 |        0.158114 | 0        |\n",
      "+---------------+----------+-----------------+----------+\n",
      "0.15811388300841894\n",
      "(3,2)\n",
      "+-------------------+----------+---------------------+\n",
      "|                   |        1 |   (4U((2U(3U6))U5)) |\n",
      "+===================+==========+=====================+\n",
      "| 1                 | 0        |             0.21587 |\n",
      "+-------------------+----------+---------------------+\n",
      "| (4U((2U(3U6))U5)) | 0.234307 |             0       |\n",
      "+-------------------+----------+---------------------+\n",
      "0.21587033144922904\n",
      "(1,2)\n",
      "+-----------------------+-------------------------+\n",
      "|                       |   (1U(4U((2U(3U6))U5))) |\n",
      "+=======================+=========================+\n",
      "| (1U(4U((2U(3U6))U5))) |                       0 |\n",
      "+-----------------------+-------------------------+\n"
     ]
    }
   ],
   "source": [
    "#for ***MIN*** hierarchical cluster\n",
    "distance_matrix_new = distance_matrix\n",
    "\n",
    "#index of the updated table\n",
    "string = []\n",
    "for i in range(distance_matrix_new.shape[0]):\n",
    "    string.append(str(i+1))\n",
    "\n",
    "#initial distance matrix    \n",
    "df_new = pd.DataFrame(distance_matrix_new, index = string, columns = string)\n",
    "print(tabulate(df_new, headers = 'keys', tablefmt = 'grid'))\n",
    "\n",
    "for i in range(100):\n",
    "    try:\n",
    "        # calculate the new min value after deletion of row and column of the actual distance matrix\n",
    "        minValue = np.amin(distance_matrix_new[np.nonzero(distance_matrix_new)])\n",
    "        print(minValue)\n",
    "        # but get the index from the original distance matrix\n",
    "        result = np.where(distance_matrix_new == minValue)\n",
    "        index = list(zip(result[0], result[1]))\n",
    "        i = index[0][0]\n",
    "        j = index[0][1]\n",
    "        maxIndex = max(i,j)\n",
    "        print('('+str(i+1)+','+str(j+1)+')')\n",
    "        \n",
    "        for row in range(len(distance_matrix_new)):\n",
    "            distance_matrix_new[row][i] = min(distance_matrix_new[row][i],distance_matrix_new[row][j])\n",
    "            \n",
    "        distance_matrix_new = np.delete(distance_matrix_new, maxIndex,0)\n",
    "        distance_matrix_new = np.delete(distance_matrix_new, maxIndex,1)\n",
    "        string[i] = '('+string[i]+'U'+string[j]+')'\n",
    "        string.pop(j)\n",
    "        df_new = pd.DataFrame(distance_matrix_new,index = string, columns = string)\n",
    "        #df = df.rename(columns={str(i): str(i)+'U'+str(j)}, index={str(i): str(i)+'U'+str(j)})\n",
    "        print(tabulate(df_new, headers = 'keys', tablefmt = 'grid'))\n",
    "    except:\n",
    "        break\n"
   ]
  },
  {
   "cell_type": "code",
   "execution_count": 558,
   "id": "ff511fae",
   "metadata": {},
   "outputs": [],
   "source": []
  },
  {
   "cell_type": "code",
   "execution_count": 559,
   "id": "d4c81706",
   "metadata": {},
   "outputs": [
    {
     "data": {
      "text/plain": [
       "array([[0.  , 0.23, 0.22, 0.37, 0.34, 0.24],\n",
       "       [0.23, 0.  , 0.15, 0.19, 0.14, 0.24],\n",
       "       [0.22, 0.15, 0.  , 0.16, 0.28, 0.1 ],\n",
       "       [0.37, 0.19, 0.16, 0.  , 0.29, 0.22],\n",
       "       [0.34, 0.14, 0.28, 0.29, 0.  , 0.39],\n",
       "       [0.24, 0.24, 0.1 , 0.22, 0.39, 0.  ]])"
      ]
     },
     "execution_count": 559,
     "metadata": {},
     "output_type": "execute_result"
    }
   ],
   "source": [
    "distance_matrix_new"
   ]
  },
  {
   "cell_type": "code",
   "execution_count": 626,
   "id": "0c89b9bc",
   "metadata": {},
   "outputs": [
    {
     "name": "stdout",
     "output_type": "stream",
     "text": [
      "+----+------+------+------+------+------+------+\n",
      "|    |    1 |    2 |    3 |    4 |    5 |    6 |\n",
      "+====+======+======+======+======+======+======+\n",
      "|  1 | 0    | 0.23 | 0.22 | 0.37 | 0.34 | 0.24 |\n",
      "+----+------+------+------+------+------+------+\n",
      "|  2 | 0.23 | 0    | 0.14 | 0.19 | 0.14 | 0.24 |\n",
      "+----+------+------+------+------+------+------+\n",
      "|  3 | 0.22 | 0.14 | 0    | 0.16 | 0.28 | 0.1  |\n",
      "+----+------+------+------+------+------+------+\n",
      "|  4 | 0.37 | 0.19 | 0.16 | 0    | 0.28 | 0.22 |\n",
      "+----+------+------+------+------+------+------+\n",
      "|  5 | 0.34 | 0.14 | 0.28 | 0.28 | 0    | 0.39 |\n",
      "+----+------+------+------+------+------+------+\n",
      "|  6 | 0.24 | 0.24 | 0.1  | 0.22 | 0.39 | 0    |\n",
      "+----+------+------+------+------+------+------+\n",
      "0.1\n",
      "[(2, 5), (5, 2)]\n",
      "(3,6)\n",
      "0.24\n",
      "0.24\n",
      "0.22\n",
      "0.39\n",
      "0.1\n",
      "+-------+------+------+---------+------+------+\n",
      "|       |    1 |    2 |   (3U6) |    4 |    5 |\n",
      "+=======+======+======+=========+======+======+\n",
      "| 1     | 0    | 0.23 |    0.24 | 0.37 | 0.34 |\n",
      "+-------+------+------+---------+------+------+\n",
      "| 2     | 0.23 | 0    |    0.24 | 0.19 | 0.14 |\n",
      "+-------+------+------+---------+------+------+\n",
      "| (3U6) | 0.22 | 0.14 |    0    | 0.16 | 0.28 |\n",
      "+-------+------+------+---------+------+------+\n",
      "| 4     | 0.37 | 0.19 |    0.22 | 0    | 0.28 |\n",
      "+-------+------+------+---------+------+------+\n",
      "| 5     | 0.34 | 0.14 |    0.39 | 0.28 | 0    |\n",
      "+-------+------+------+---------+------+------+\n",
      "0.14\n",
      "[(1, 4), (2, 1), (4, 1)]\n",
      "(2,5)\n",
      "0.34\n",
      "0.28\n",
      "0.28\n",
      "0.14\n",
      "+-------+------+---------+---------+------+\n",
      "|       |    1 |   (2U5) |   (3U6) |    4 |\n",
      "+=======+======+=========+=========+======+\n",
      "| 1     | 0    |    0.34 |    0.24 | 0.37 |\n",
      "+-------+------+---------+---------+------+\n",
      "| (2U5) | 0.23 |    0    |    0.24 | 0.19 |\n",
      "+-------+------+---------+---------+------+\n",
      "| (3U6) | 0.22 |    0.28 |    0    | 0.16 |\n",
      "+-------+------+---------+---------+------+\n",
      "| 4     | 0.37 |    0.28 |    0.22 | 0    |\n",
      "+-------+------+---------+---------+------+\n",
      "0.16\n",
      "[(2, 3)]\n",
      "(3,4)\n",
      "0.37\n",
      "0.24\n",
      "0.22\n",
      "+-----------+------+---------+-------------+\n",
      "|           |    1 |   (2U5) |   ((3U6)U4) |\n",
      "+===========+======+=========+=============+\n",
      "| 1         | 0    |    0.34 |        0.37 |\n",
      "+-----------+------+---------+-------------+\n",
      "| (2U5)     | 0.23 |    0    |        0.24 |\n",
      "+-----------+------+---------+-------------+\n",
      "| ((3U6)U4) | 0.22 |    0.28 |        0    |\n",
      "+-----------+------+---------+-------------+\n",
      "0.22\n",
      "[(2, 0)]\n",
      "(3,1)\n",
      "0.37\n",
      "0.24\n",
      "+---------------+---------+-----------------+\n",
      "|               |   (2U5) |   (((3U6)U4)U1) |\n",
      "+===============+=========+=================+\n",
      "| (2U5)         |    0    |            0.34 |\n",
      "+---------------+---------+-----------------+\n",
      "| (((3U6)U4)U1) |    0.23 |            0    |\n",
      "+---------------+---------+-----------------+\n",
      "0.23\n",
      "[(1, 0)]\n",
      "(2,1)\n",
      "0.34\n",
      "+-----------------------+-------------------------+\n",
      "|                       |   ((((3U6)U4)U1)U(2U5)) |\n",
      "+=======================+=========================+\n",
      "| ((((3U6)U4)U1)U(2U5)) |                       0 |\n",
      "+-----------------------+-------------------------+\n"
     ]
    }
   ],
   "source": [
    "#for ***MAX*** hierarchical cluster\n",
    "distance_matrix_new = distance_matrix\n",
    "\n",
    "#index of the updated table\n",
    "string = []\n",
    "for i in range(distance_matrix_new.shape[0]):\n",
    "    string.append(str(i+1))\n",
    "\n",
    "#initial distance matrix    \n",
    "df_new = pd.DataFrame(distance_matrix_new, index = string, columns = string)\n",
    "print(tabulate(df_new, headers = 'keys', tablefmt = 'grid'))\n",
    "\n",
    "for i in range(100):\n",
    "    try:\n",
    "        # calculate the new min value after deletion of row and column of the actual distance matrix\n",
    "        minValue = np.amin(distance_matrix_new[np.nonzero(distance_matrix_new)])\n",
    "        print(minValue)\n",
    "        # but get the index from the original distance matrix\n",
    "        result = np.where(distance_matrix_new == minValue)\n",
    "        index = list(zip(result[0], result[1]))\n",
    "        print(index)\n",
    "        i = index[0][0]\n",
    "        j = index[0][1]\n",
    "        maxIndex = max(i,j)\n",
    "        print('('+str(i+1)+','+str(j+1)+')')\n",
    "        \n",
    "        for row in range(len(distance_matrix_new)):\n",
    "            if row == i:\n",
    "                continue\n",
    "            else:\n",
    "                distance_matrix_new[row][i] = max(distance_matrix_new[row][i],distance_matrix_new[row][j])\n",
    "                print(distance_matrix_new[row][i])\n",
    "        distance_matrix_new = np.delete(distance_matrix_new, maxIndex,0)\n",
    "        distance_matrix_new = np.delete(distance_matrix_new, maxIndex,1)\n",
    "        string[i] = '('+string[i]+'U'+string[j]+')'\n",
    "        string.pop(j)\n",
    "        df_new = pd.DataFrame(distance_matrix_new,index = string, columns = string)\n",
    "        #df = df.rename(columns={str(i): str(i)+'U'+str(j)}, index={str(i): str(i)+'U'+str(j)})\n",
    "        print(tabulate(df_new, headers = 'keys', tablefmt = 'grid'))\n",
    "    except:\n",
    "        break\n"
   ]
  },
  {
   "cell_type": "code",
   "execution_count": null,
   "id": "82134726",
   "metadata": {},
   "outputs": [],
   "source": []
  }
 ],
 "metadata": {
  "kernelspec": {
   "display_name": "Python 3",
   "language": "python",
   "name": "python3"
  },
  "language_info": {
   "codemirror_mode": {
    "name": "ipython",
    "version": 3
   },
   "file_extension": ".py",
   "mimetype": "text/x-python",
   "name": "python",
   "nbconvert_exporter": "python",
   "pygments_lexer": "ipython3",
   "version": "3.9.2"
  }
 },
 "nbformat": 4,
 "nbformat_minor": 5
}
