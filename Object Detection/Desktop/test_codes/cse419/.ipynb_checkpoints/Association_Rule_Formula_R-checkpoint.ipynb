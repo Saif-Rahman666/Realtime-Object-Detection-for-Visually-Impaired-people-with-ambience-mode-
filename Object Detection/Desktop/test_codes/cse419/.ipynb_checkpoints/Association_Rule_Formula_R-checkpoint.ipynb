{
 "cells": [
  {
   "cell_type": "code",
   "execution_count": 1,
   "id": "998199e1",
   "metadata": {},
   "outputs": [],
   "source": [
    "from math import comb"
   ]
  },
  {
   "cell_type": "code",
   "execution_count": 131,
   "id": "303470a6",
   "metadata": {},
   "outputs": [],
   "source": [
    "def ruleset(d):\n",
    "    j= 0\n",
    "    k = 0 \n",
    "          # d-1         d-k\n",
    "    R = 0 #  E [(d,k) x E(d-k,j)]\n",
    "          # k=1        j=1\n",
    "    \n",
    "                 # d-k\n",
    "    innerSum = 0 #  E(d-k,j)]\n",
    "                 # j=1\n",
    "    outerSum = 0\n",
    "\n",
    "    for i in range(d-1):\n",
    "        k=i+1\n",
    "        innerSum = 0\n",
    "        innerArr = []\n",
    "        for m in range(d-k):\n",
    "            j = m+1\n",
    "            if j==(d-k):\n",
    "                ncr = str(d-k)+\"C\"+str(j)\n",
    "            else:\n",
    "                ncr = str(d-k)+\"C\"+str(j)+\" +\"\n",
    "            innerArr.append(ncr)\n",
    "            innerSum = innerSum+comb(d-k,j)\n",
    "        print(str(d)+\"C\"+str(k)+\"x(\",end=\"\")\n",
    "        print(*innerArr,end=\"\")\n",
    "        print(\")\")\n",
    "        outerSum = comb(d,k)*innerSum\n",
    "        print(\"Outer Summation = \"+str(outerSum))\n",
    "        print()\n",
    "        R = R+outerSum\n",
    "\n",
    "    print(R)"
   ]
  },
  {
   "cell_type": "code",
   "execution_count": 140,
   "id": "c39af5cb",
   "metadata": {},
   "outputs": [
    {
     "data": {
      "text/plain": [
       "1"
      ]
     },
     "execution_count": 140,
     "metadata": {},
     "output_type": "execute_result"
    }
   ],
   "source": []
  },
  {
   "cell_type": "code",
   "execution_count": 138,
   "id": "f2ecdf3b",
   "metadata": {},
   "outputs": [
    {
     "name": "stdout",
     "output_type": "stream",
     "text": [
      "0\n",
      "3C1x(2C1 + 2C2)\n",
      "Outer Summation = 9\n",
      "\n",
      "1\n",
      "3C2x(1C1)\n",
      "Outer Summation = 3\n",
      "\n",
      "12\n"
     ]
    }
   ],
   "source": [
    "d = 3 # distinct itemset\n",
    "j= 0\n",
    "k = 0 \n",
    "      # d-1         d-k\n",
    "R = 0 #  E [(d,k) x E(d-k,j)]\n",
    "      # k=1        j=1\n",
    "    \n",
    "      # d-k\n",
    "innerSum = 0 #  E(d-k,j)]\n",
    "      # j=1\n",
    "outerSum = 0\n",
    "\n",
    "\n",
    "outerArr = []\n",
    "\n",
    "\n",
    "\n",
    "for i in range(d-1):\n",
    "    k=i+1\n",
    "    print(i)\n",
    "    innerSum = 0\n",
    "    innerArr = []\n",
    "    for m in range(d-k):\n",
    "        j = m+1\n",
    "        if j==(d-k):\n",
    "            ncr = str(d-k)+\"C\"+str(j)\n",
    "        else:\n",
    "            ncr = str(d-k)+\"C\"+str(j)+\" +\"\n",
    "        innerArr.append(ncr)\n",
    "        innerSum = innerSum+comb(d-k,j)\n",
    "    print(str(d)+\"C\"+str(k)+\"x(\",end=\"\")\n",
    "    print(*innerArr,end=\"\")\n",
    "    print(\")\")\n",
    "    outerSum = comb(d,k)*innerSum\n",
    "    print(\"Outer Summation = \"+str(outerSum))\n",
    "    print()\n",
    "    R = R+outerSum\n",
    "\n",
    "print(R)"
   ]
  },
  {
   "cell_type": "code",
   "execution_count": 111,
   "id": "296d1344",
   "metadata": {},
   "outputs": [
    {
     "data": {
      "text/plain": [
       "602"
      ]
     },
     "execution_count": 111,
     "metadata": {},
     "output_type": "execute_result"
    }
   ],
   "source": []
  },
  {
   "cell_type": "code",
   "execution_count": null,
   "id": "e62a9187",
   "metadata": {},
   "outputs": [],
   "source": []
  }
 ],
 "metadata": {
  "kernelspec": {
   "display_name": "Python 3",
   "language": "python",
   "name": "python3"
  },
  "language_info": {
   "codemirror_mode": {
    "name": "ipython",
    "version": 3
   },
   "file_extension": ".py",
   "mimetype": "text/x-python",
   "name": "python",
   "nbconvert_exporter": "python",
   "pygments_lexer": "ipython3",
   "version": "3.9.2"
  }
 },
 "nbformat": 4,
 "nbformat_minor": 5
}
