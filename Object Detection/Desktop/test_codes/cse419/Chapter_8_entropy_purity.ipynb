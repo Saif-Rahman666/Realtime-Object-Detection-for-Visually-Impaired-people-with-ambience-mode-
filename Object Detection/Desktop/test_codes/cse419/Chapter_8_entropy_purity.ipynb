{
 "cells": [
  {
   "cell_type": "code",
   "execution_count": 27,
   "id": "156aba6f",
   "metadata": {},
   "outputs": [],
   "source": [
    "import pandas as pd\n",
    "import numpy as np\n",
    "from tabulate import tabulate"
   ]
  },
  {
   "cell_type": "code",
   "execution_count": null,
   "id": "edf7657a",
   "metadata": {},
   "outputs": [],
   "source": [
    "total_data_points = 3204\n",
    "c1 = 3+5+40+506+96+27\n",
    "c2 = 4+7+280+29+39+2\n",
    "c3 = 1+1+1+7+4+671\n",
    "c4 = 10+162+3+119+73+2\n",
    "c5 = 331+22+5+70+13+23\n",
    "c6 = 5+358+12+212+48+13"
   ]
  },
  {
   "cell_type": "code",
   "execution_count": null,
   "id": "455e921b",
   "metadata": {},
   "outputs": [],
   "source": [
    "data_points = c1+c2+c3+c4+c5+c6\n",
    "data_points"
   ]
  },
  {
   "cell_type": "code",
   "execution_count": null,
   "id": "09e4eb5c",
   "metadata": {},
   "outputs": [],
   "source": [
    "totalPurity = (c1/data_points)*0.7474+(c2/data_points)*0.7756+(c3/data_points)*0.9796+(c4/data_points)*0.4390+(c5/data_points)*0.7134+(c6/data_points)*0.5525"
   ]
  },
  {
   "cell_type": "code",
   "execution_count": 127,
   "id": "b096e7ae",
   "metadata": {},
   "outputs": [],
   "source": []
  },
  {
   "cell_type": "code",
   "execution_count": 286,
   "id": "4a96e902",
   "metadata": {},
   "outputs": [],
   "source": [
    "def clusterResult(numberOfClusters):\n",
    "    a = []\n",
    "    global cluster_label\n",
    "    cluster_label = []\n",
    "    for i in range(numberOfClusters):\n",
    "        val = list(map(int, input(\"Enter your value and check if it's string otherwise typecast: \" ).split(\",\")))\n",
    "        a.append(val)\n",
    "        cluster_label.append('Cluster '+str(i+1))\n",
    "        \n",
    "    cluster_label.append('Total')\n",
    "    return a\n",
    "\n",
    "\n"
   ]
  },
  {
   "cell_type": "code",
   "execution_count": 287,
   "id": "cf64539d",
   "metadata": {},
   "outputs": [
    {
     "name": "stdout",
     "output_type": "stream",
     "text": [
      "Enter your value and check if it's string otherwise typecast: 3,5,40,506,96,27\n",
      "Enter your value and check if it's string otherwise typecast: 4,7,280,29,39,2\n",
      "Enter your value and check if it's string otherwise typecast: 1,1,1,7,4,671\n",
      "Enter your value and check if it's string otherwise typecast: 10,162,3,119,73,2\n",
      "Enter your value and check if it's string otherwise typecast: 331,22,5,70,13,23\n",
      "Enter your value and check if it's string otherwise typecast: 5,358,12,212,48,13\n"
     ]
    }
   ],
   "source": [
    "cluster = clusterResult(6)"
   ]
  },
  {
   "cell_type": "code",
   "execution_count": 31,
   "id": "2bbb5a68",
   "metadata": {},
   "outputs": [
    {
     "name": "stdout",
     "output_type": "stream",
     "text": [
      "Enter your value and check if it's string otherwise typecast: 3,5,40,506,96,27\n",
      "Enter your value and check if it's string otherwise typecast: 4,7,280,29,39,2\n",
      "Enter your value and check if it's string otherwise typecast: 1,1,1,7,4,671\n",
      "Enter your value and check if it's string otherwise typecast: 10,162,3,119,73,2\n",
      "Enter your value and check if it's string otherwise typecast: 331,22,5,70,13,23\n",
      "Enter your value and check if it's string otherwise typecast: 5,358,12,212,48,13\n"
     ]
    }
   ],
   "source": [
    "cluster = clusterResult(6)"
   ]
  },
  {
   "cell_type": "code",
   "execution_count": 289,
   "id": "cb94bef0",
   "metadata": {},
   "outputs": [
    {
     "data": {
      "text/plain": [
       "['Cluster 1',\n",
       " 'Cluster 2',\n",
       " 'Cluster 3',\n",
       " 'Cluster 4',\n",
       " 'Cluster 5',\n",
       " 'Cluster 6',\n",
       " 'Total']"
      ]
     },
     "execution_count": 289,
     "metadata": {},
     "output_type": "execute_result"
    }
   ],
   "source": [
    "cluster_label"
   ]
  },
  {
   "cell_type": "code",
   "execution_count": 290,
   "id": "a4afb24c",
   "metadata": {},
   "outputs": [],
   "source": [
    "classes = ['Entertainment', 'Financial', 'Foreign', 'Metro', 'National', 'Sports']\n",
    "cluster_with_total = cluster.copy()\n",
    "df = pd.DataFrame(cluster_with_total)\n",
    "class_total = pd.DataFrame.sum(df) # total in column or total of each class\n",
    "class_total = class_total.tolist()\n",
    "cluster_with_total.append(class_total)\n"
   ]
  },
  {
   "cell_type": "code",
   "execution_count": 291,
   "id": "ac22a28f",
   "metadata": {},
   "outputs": [],
   "source": [
    "df = pd.DataFrame(cluster_with_total,index = cluster_label,columns=classes)\n",
    "cluster_total = df[\"Total\"] = df.sum(axis=1) #total in row or total of each cluster \n",
    "cluster_total = cluster_total.tolist()\n",
    "total_data_points = cluster_total.pop() #total of everything or total data points"
   ]
  },
  {
   "cell_type": "code",
   "execution_count": 292,
   "id": "6a9894d6",
   "metadata": {},
   "outputs": [
    {
     "data": {
      "text/html": [
       "<div>\n",
       "<style scoped>\n",
       "    .dataframe tbody tr th:only-of-type {\n",
       "        vertical-align: middle;\n",
       "    }\n",
       "\n",
       "    .dataframe tbody tr th {\n",
       "        vertical-align: top;\n",
       "    }\n",
       "\n",
       "    .dataframe thead th {\n",
       "        text-align: right;\n",
       "    }\n",
       "</style>\n",
       "<table border=\"1\" class=\"dataframe\">\n",
       "  <thead>\n",
       "    <tr style=\"text-align: right;\">\n",
       "      <th></th>\n",
       "      <th>Entertainment</th>\n",
       "      <th>Financial</th>\n",
       "      <th>Foreign</th>\n",
       "      <th>Metro</th>\n",
       "      <th>National</th>\n",
       "      <th>Sports</th>\n",
       "      <th>Total</th>\n",
       "    </tr>\n",
       "  </thead>\n",
       "  <tbody>\n",
       "    <tr>\n",
       "      <th>Cluster 1</th>\n",
       "      <td>3</td>\n",
       "      <td>5</td>\n",
       "      <td>40</td>\n",
       "      <td>506</td>\n",
       "      <td>96</td>\n",
       "      <td>27</td>\n",
       "      <td>677</td>\n",
       "    </tr>\n",
       "    <tr>\n",
       "      <th>Cluster 2</th>\n",
       "      <td>4</td>\n",
       "      <td>7</td>\n",
       "      <td>280</td>\n",
       "      <td>29</td>\n",
       "      <td>39</td>\n",
       "      <td>2</td>\n",
       "      <td>361</td>\n",
       "    </tr>\n",
       "    <tr>\n",
       "      <th>Cluster 3</th>\n",
       "      <td>1</td>\n",
       "      <td>1</td>\n",
       "      <td>1</td>\n",
       "      <td>7</td>\n",
       "      <td>4</td>\n",
       "      <td>671</td>\n",
       "      <td>685</td>\n",
       "    </tr>\n",
       "    <tr>\n",
       "      <th>Cluster 4</th>\n",
       "      <td>10</td>\n",
       "      <td>162</td>\n",
       "      <td>3</td>\n",
       "      <td>119</td>\n",
       "      <td>73</td>\n",
       "      <td>2</td>\n",
       "      <td>369</td>\n",
       "    </tr>\n",
       "    <tr>\n",
       "      <th>Cluster 5</th>\n",
       "      <td>331</td>\n",
       "      <td>22</td>\n",
       "      <td>5</td>\n",
       "      <td>70</td>\n",
       "      <td>13</td>\n",
       "      <td>23</td>\n",
       "      <td>464</td>\n",
       "    </tr>\n",
       "    <tr>\n",
       "      <th>Cluster 6</th>\n",
       "      <td>5</td>\n",
       "      <td>358</td>\n",
       "      <td>12</td>\n",
       "      <td>212</td>\n",
       "      <td>48</td>\n",
       "      <td>13</td>\n",
       "      <td>648</td>\n",
       "    </tr>\n",
       "    <tr>\n",
       "      <th>Total</th>\n",
       "      <td>354</td>\n",
       "      <td>555</td>\n",
       "      <td>341</td>\n",
       "      <td>943</td>\n",
       "      <td>273</td>\n",
       "      <td>738</td>\n",
       "      <td>3204</td>\n",
       "    </tr>\n",
       "  </tbody>\n",
       "</table>\n",
       "</div>"
      ],
      "text/plain": [
       "           Entertainment  Financial  Foreign  Metro  National  Sports  Total\n",
       "Cluster 1              3          5       40    506        96      27    677\n",
       "Cluster 2              4          7      280     29        39       2    361\n",
       "Cluster 3              1          1        1      7         4     671    685\n",
       "Cluster 4             10        162        3    119        73       2    369\n",
       "Cluster 5            331         22        5     70        13      23    464\n",
       "Cluster 6              5        358       12    212        48      13    648\n",
       "Total                354        555      341    943       273     738   3204"
      ]
     },
     "execution_count": 292,
     "metadata": {},
     "output_type": "execute_result"
    }
   ],
   "source": [
    "df"
   ]
  },
  {
   "cell_type": "code",
   "execution_count": 293,
   "id": "80926ec0",
   "metadata": {},
   "outputs": [
    {
     "data": {
      "text/plain": [
       "648"
      ]
     },
     "execution_count": 293,
     "metadata": {},
     "output_type": "execute_result"
    }
   ],
   "source": [
    "cluster_total[5]"
   ]
  },
  {
   "cell_type": "code",
   "execution_count": 294,
   "id": "c4c52778",
   "metadata": {},
   "outputs": [],
   "source": [
    "import math"
   ]
  },
  {
   "cell_type": "code",
   "execution_count": 342,
   "id": "0e583891",
   "metadata": {},
   "outputs": [
    {
     "name": "stdout",
     "output_type": "stream",
     "text": [
      "e0 = 0.0044 log2(0.0044)+\n",
      "0.0074 log2(0.0074)+\n",
      "0.0591 log2(0.0591)+\n",
      "0.7474 log2(0.7474)+\n",
      "0.1418 log2(0.1418)+\n",
      "0.0399 log2(0.0399)+\n",
      "\n",
      "\n",
      "[0.0044, 0.0074, 0.0591, 0.7474, 0.1418, 0.0399]\n",
      "\n",
      "e1 = 0.0111 log2(0.0111)+\n",
      "0.0194 log2(0.0194)+\n",
      "0.7756 log2(0.7756)+\n",
      "0.0803 log2(0.0803)+\n",
      "0.108 log2(0.108)+\n",
      "0.0055 log2(0.0055)+\n",
      "\n",
      "\n",
      "[0.0111, 0.0194, 0.7756, 0.0803, 0.108, 0.0055]\n",
      "\n",
      "e2 = 0.0015 log2(0.0015)+\n",
      "0.0015 log2(0.0015)+\n",
      "0.0015 log2(0.0015)+\n",
      "0.0102 log2(0.0102)+\n",
      "0.0058 log2(0.0058)+\n",
      "0.9796 log2(0.9796)+\n",
      "\n",
      "\n",
      "[0.0015, 0.0015, 0.0015, 0.0102, 0.0058, 0.9796]\n",
      "\n",
      "e3 = 0.0271 log2(0.0271)+\n",
      "0.439 log2(0.439)+\n",
      "0.0081 log2(0.0081)+\n",
      "0.3225 log2(0.3225)+\n",
      "0.1978 log2(0.1978)+\n",
      "0.0054 log2(0.0054)+\n",
      "\n",
      "\n",
      "[0.0271, 0.439, 0.0081, 0.3225, 0.1978, 0.0054]\n",
      "\n",
      "e4 = 0.7134 log2(0.7134)+\n",
      "0.0474 log2(0.0474)+\n",
      "0.0108 log2(0.0108)+\n",
      "0.1509 log2(0.1509)+\n",
      "0.028 log2(0.028)+\n",
      "0.0496 log2(0.0496)+\n",
      "\n",
      "\n",
      "[0.7134, 0.0474, 0.0108, 0.1509, 0.028, 0.0496]\n",
      "\n",
      "e5 = 0.0077 log2(0.0077)+\n",
      "0.5525 log2(0.5525)+\n",
      "0.0185 log2(0.0185)+\n",
      "0.3272 log2(0.3272)+\n",
      "0.0741 log2(0.0741)+\n",
      "0.0201 log2(0.0201)+\n",
      "\n",
      "\n",
      "[0.0077, 0.5525, 0.0185, 0.3272, 0.0741, 0.0201]\n",
      "\n",
      "[1.227, 1.147, 0.1819, 1.7484, 1.3977, 1.5523]\n",
      "[0.7474, 0.7756, 0.9796, 0.439, 0.7134, 0.5525]\n"
     ]
    }
   ],
   "source": [
    "#entropy of each class\n",
    "# i = cluster, j = class p_ij = m_ij/m_i\n",
    "entropy_i = []\n",
    "purity_i = []\n",
    "for i in range(len(cluster)):\n",
    "    e_i = 0\n",
    "    p_ij_arr = []\n",
    "    \n",
    "    print(\"e\"+str(i)+\" = \", end = \"\")\n",
    "    for j in range(len(classes)):\n",
    "        m_ij =  cluster[i][j] # total number of values of each class in cluster i\n",
    "        m_i = cluster_total[i] # total number of values of cluster i\n",
    "        p_ij = m_ij/m_i #probability of class j being a member of cluster i\n",
    "        p_ij = round(p_ij,4)\n",
    "        p_ij_arr.append(p_ij)\n",
    "        #writing the equation\n",
    "        print(str(p_ij)+' log2(' +str(p_ij)+')',end = \"+\")\n",
    "        print()\n",
    "        e_i = e_i+(p_ij*math.log(p_ij,2))\n",
    "    print()\n",
    "    print()\n",
    "    print(p_ij_arr)\n",
    "    print()\n",
    "    entropy_i.append(round(-e_i,4))\n",
    "    purity_i.append(round(max(p_ij_arr),4))\n",
    "    \n",
    "    \n",
    "print(entropy_i)\n",
    "print(purity_i)\n"
   ]
  },
  {
   "cell_type": "code",
   "execution_count": 308,
   "id": "e520ebe1",
   "metadata": {},
   "outputs": [
    {
     "name": "stdout",
     "output_type": "stream",
     "text": [
      "1.1450236579275905\n"
     ]
    }
   ],
   "source": [
    "#Total Entropy\n",
    "# i = cluster, j = class p_ij = m_ij/m_i\n",
    "total_entropy = 0\n",
    "cluster_index = 0 #cluster index\n",
    "for val in cluster_total:\n",
    "    m_i = val #total data points or values of each cluster\n",
    "    m = total_data_points\n",
    "    total_entropy = total_entropy+((m_i/m)*entropy_i[cluster_index])\n",
    "    cluster_index+=1\n",
    "    \n",
    "print(total_entropy)\n",
    "   "
   ]
  },
  {
   "cell_type": "code",
   "execution_count": 309,
   "id": "36525cf7",
   "metadata": {},
   "outputs": [
    {
     "name": "stdout",
     "output_type": "stream",
     "text": [
      "0.7203607990012484\n"
     ]
    }
   ],
   "source": [
    "#Total Purity\n",
    "# i = cluster, j = class p_ij = m_ij/m_i\n",
    "\n",
    "total_purity = 0\n",
    "cluster_index = 0 #cluster index\n",
    "\n",
    "for val in cluster_total:\n",
    "    m_i = val #total data points or values of each cluster\n",
    "    m = total_data_points\n",
    "    total_purity = total_purity+((m_i/m)*purity_i[cluster_index])\n",
    "    cluster_index+=1\n",
    "    \n",
    "print(total_purity)\n",
    "   "
   ]
  },
  {
   "cell_type": "code",
   "execution_count": 310,
   "id": "e70c8e9b",
   "metadata": {},
   "outputs": [],
   "source": [
    "# now lets add the grand total to both entropy and purity\n",
    "entropy_i.append(round(total_entropy,4))\n",
    "purity_i.append(round(total_purity,4))"
   ]
  },
  {
   "cell_type": "code",
   "execution_count": null,
   "id": "ab4c0e0b",
   "metadata": {},
   "outputs": [],
   "source": []
  },
  {
   "cell_type": "code",
   "execution_count": 312,
   "id": "50663ac7",
   "metadata": {},
   "outputs": [
    {
     "data": {
      "text/plain": [
       "[0.7474, 0.7756, 0.9796, 0.439, 0.7134, 0.5525, 0.7204]"
      ]
     },
     "execution_count": 312,
     "metadata": {},
     "output_type": "execute_result"
    }
   ],
   "source": [
    "purity_i"
   ]
  },
  {
   "cell_type": "code",
   "execution_count": 313,
   "id": "5357732e",
   "metadata": {},
   "outputs": [],
   "source": [
    "df['Entropy'] = entropy_i\n",
    "df['Purity'] = purity_i\n"
   ]
  },
  {
   "cell_type": "code",
   "execution_count": 314,
   "id": "13acbd1c",
   "metadata": {},
   "outputs": [
    {
     "data": {
      "text/html": [
       "<div>\n",
       "<style scoped>\n",
       "    .dataframe tbody tr th:only-of-type {\n",
       "        vertical-align: middle;\n",
       "    }\n",
       "\n",
       "    .dataframe tbody tr th {\n",
       "        vertical-align: top;\n",
       "    }\n",
       "\n",
       "    .dataframe thead th {\n",
       "        text-align: right;\n",
       "    }\n",
       "</style>\n",
       "<table border=\"1\" class=\"dataframe\">\n",
       "  <thead>\n",
       "    <tr style=\"text-align: right;\">\n",
       "      <th></th>\n",
       "      <th>Entertainment</th>\n",
       "      <th>Financial</th>\n",
       "      <th>Foreign</th>\n",
       "      <th>Metro</th>\n",
       "      <th>National</th>\n",
       "      <th>Sports</th>\n",
       "      <th>Total</th>\n",
       "      <th>Entropy</th>\n",
       "      <th>Purity</th>\n",
       "    </tr>\n",
       "  </thead>\n",
       "  <tbody>\n",
       "    <tr>\n",
       "      <th>Cluster 1</th>\n",
       "      <td>3</td>\n",
       "      <td>5</td>\n",
       "      <td>40</td>\n",
       "      <td>506</td>\n",
       "      <td>96</td>\n",
       "      <td>27</td>\n",
       "      <td>677</td>\n",
       "      <td>1.2270</td>\n",
       "      <td>0.7474</td>\n",
       "    </tr>\n",
       "    <tr>\n",
       "      <th>Cluster 2</th>\n",
       "      <td>4</td>\n",
       "      <td>7</td>\n",
       "      <td>280</td>\n",
       "      <td>29</td>\n",
       "      <td>39</td>\n",
       "      <td>2</td>\n",
       "      <td>361</td>\n",
       "      <td>1.1472</td>\n",
       "      <td>0.7756</td>\n",
       "    </tr>\n",
       "    <tr>\n",
       "      <th>Cluster 3</th>\n",
       "      <td>1</td>\n",
       "      <td>1</td>\n",
       "      <td>1</td>\n",
       "      <td>7</td>\n",
       "      <td>4</td>\n",
       "      <td>671</td>\n",
       "      <td>685</td>\n",
       "      <td>0.1813</td>\n",
       "      <td>0.9796</td>\n",
       "    </tr>\n",
       "    <tr>\n",
       "      <th>Cluster 4</th>\n",
       "      <td>10</td>\n",
       "      <td>162</td>\n",
       "      <td>3</td>\n",
       "      <td>119</td>\n",
       "      <td>73</td>\n",
       "      <td>2</td>\n",
       "      <td>369</td>\n",
       "      <td>1.7487</td>\n",
       "      <td>0.4390</td>\n",
       "    </tr>\n",
       "    <tr>\n",
       "      <th>Cluster 5</th>\n",
       "      <td>331</td>\n",
       "      <td>22</td>\n",
       "      <td>5</td>\n",
       "      <td>70</td>\n",
       "      <td>13</td>\n",
       "      <td>23</td>\n",
       "      <td>464</td>\n",
       "      <td>1.3976</td>\n",
       "      <td>0.7134</td>\n",
       "    </tr>\n",
       "    <tr>\n",
       "      <th>Cluster 6</th>\n",
       "      <td>5</td>\n",
       "      <td>358</td>\n",
       "      <td>12</td>\n",
       "      <td>212</td>\n",
       "      <td>48</td>\n",
       "      <td>13</td>\n",
       "      <td>648</td>\n",
       "      <td>1.5523</td>\n",
       "      <td>0.5525</td>\n",
       "    </tr>\n",
       "    <tr>\n",
       "      <th>Total</th>\n",
       "      <td>354</td>\n",
       "      <td>555</td>\n",
       "      <td>341</td>\n",
       "      <td>943</td>\n",
       "      <td>273</td>\n",
       "      <td>738</td>\n",
       "      <td>3204</td>\n",
       "      <td>1.1450</td>\n",
       "      <td>0.7204</td>\n",
       "    </tr>\n",
       "  </tbody>\n",
       "</table>\n",
       "</div>"
      ],
      "text/plain": [
       "           Entertainment  Financial  Foreign  Metro  National  Sports  Total  \\\n",
       "Cluster 1              3          5       40    506        96      27    677   \n",
       "Cluster 2              4          7      280     29        39       2    361   \n",
       "Cluster 3              1          1        1      7         4     671    685   \n",
       "Cluster 4             10        162        3    119        73       2    369   \n",
       "Cluster 5            331         22        5     70        13      23    464   \n",
       "Cluster 6              5        358       12    212        48      13    648   \n",
       "Total                354        555      341    943       273     738   3204   \n",
       "\n",
       "           Entropy  Purity  \n",
       "Cluster 1   1.2270  0.7474  \n",
       "Cluster 2   1.1472  0.7756  \n",
       "Cluster 3   0.1813  0.9796  \n",
       "Cluster 4   1.7487  0.4390  \n",
       "Cluster 5   1.3976  0.7134  \n",
       "Cluster 6   1.5523  0.5525  \n",
       "Total       1.1450  0.7204  "
      ]
     },
     "execution_count": 314,
     "metadata": {},
     "output_type": "execute_result"
    }
   ],
   "source": [
    "df"
   ]
  },
  {
   "cell_type": "code",
   "execution_count": null,
   "id": "92180a74",
   "metadata": {},
   "outputs": [],
   "source": []
  }
 ],
 "metadata": {
  "kernelspec": {
   "display_name": "Python 3",
   "language": "python",
   "name": "python3"
  },
  "language_info": {
   "codemirror_mode": {
    "name": "ipython",
    "version": 3
   },
   "file_extension": ".py",
   "mimetype": "text/x-python",
   "name": "python",
   "nbconvert_exporter": "python",
   "pygments_lexer": "ipython3",
   "version": "3.9.2"
  }
 },
 "nbformat": 4,
 "nbformat_minor": 5
}
