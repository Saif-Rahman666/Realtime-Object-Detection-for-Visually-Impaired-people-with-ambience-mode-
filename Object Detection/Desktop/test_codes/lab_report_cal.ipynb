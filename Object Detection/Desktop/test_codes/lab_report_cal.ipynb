{
 "cells": [
  {
   "cell_type": "code",
   "execution_count": 70,
   "id": "81e51f19",
   "metadata": {},
   "outputs": [
    {
     "name": "stdout",
     "output_type": "stream",
     "text": [
      "1 => 32.4\n",
      "\n",
      "\n",
      "2 => 50.4\n",
      "\n",
      "\n",
      "5 => 68.4\n",
      "\n",
      "\n",
      "10 => 79.2\n",
      "\n",
      "\n",
      "15 => 82.286\n",
      "\n",
      "\n",
      "20 => 84.96\n",
      "\n",
      "\n",
      "25 => 86.4\n",
      "\n",
      "\n",
      "30 => 91.2\n",
      "\n",
      "\n"
     ]
    }
   ],
   "source": [
    "import math\n",
    "import numpy as np\n",
    "dT = [90,70,38,22,16,11.80,9.60,7.60]\n",
    "T = [1000,500,200,100,70,50,40,30]\n",
    "f = [1,2,5,10,15,20,25,30]\n",
    "phaseM = []\n",
    "for i in range(len(T)):\n",
    "    cal = (dT[i]/T[i])*360\n",
    "    cal = round(cal,3)\n",
    "    phaseM.append(cal)\n",
    "    print(str(f[i])+\" => \"+str(phaseM[i]))\n",
    "    print()\n",
    "    print()"
   ]
  },
  {
   "cell_type": "code",
   "execution_count": 72,
   "id": "ab391bbd",
   "metadata": {
    "scrolled": true
   },
   "outputs": [
    {
     "name": "stdout",
     "output_type": "stream",
     "text": [
      "1 => 32.142\n",
      "\n",
      "\n",
      "2 => 51.488\n",
      "\n",
      "\n",
      "5 => 72.343\n",
      "\n",
      "\n",
      "10 => 80.957\n",
      "\n",
      "\n",
      "15 => 83.943\n",
      "\n",
      "\n",
      "20 => 85.45\n",
      "\n",
      "\n",
      "25 => 86.357\n",
      "\n",
      "\n",
      "30 => 86.963\n",
      "\n",
      "\n"
     ]
    }
   ],
   "source": [
    "R = 1000 #ohm\n",
    "C = 0.0000001 #Farad\n",
    "twoPi = 2*math.pi\n",
    "frequency = [1,2,5,10,15,20,25,30]\n",
    "i = 0\n",
    "phaseC = []\n",
    "for f in frequency:\n",
    "    Xc = 1/(twoPi*f*1000*C)\n",
    "    cal = math.atan(R/Xc)\n",
    "    cal = math.degrees(cal)\n",
    "    cal = round(cal,3)\n",
    "    phaseC.append(cal)\n",
    "    print(str(f)+\" => \"+str(phaseC[i]))\n",
    "    print()\n",
    "    print()\n",
    "    i+=1\n",
    " "
   ]
  },
  {
   "cell_type": "code",
   "execution_count": 66,
   "id": "9bfc7dc3",
   "metadata": {},
   "outputs": [
    {
     "name": "stdout",
     "output_type": "stream",
     "text": [
      "0.803\n",
      "2.113\n",
      "5.451\n",
      "2.17\n",
      "1.975\n",
      "0.574\n",
      "0.049\n",
      "4.872\n"
     ]
    }
   ],
   "source": [
    "\n",
    "\n",
    "for i in range(len(phaseM)):\n",
    "    error = ((phaseM[i]-phaseC[i])/phaseC[i])*100\n",
    "    print(round(abs(error),3))\n"
   ]
  },
  {
   "cell_type": "code",
   "execution_count": null,
   "id": "aa0d0840",
   "metadata": {},
   "outputs": [],
   "source": []
  },
  {
   "cell_type": "code",
   "execution_count": null,
   "id": "4b331047",
   "metadata": {},
   "outputs": [],
   "source": []
  }
 ],
 "metadata": {
  "kernelspec": {
   "display_name": "Python 3",
   "language": "python",
   "name": "python3"
  },
  "language_info": {
   "codemirror_mode": {
    "name": "ipython",
    "version": 3
   },
   "file_extension": ".py",
   "mimetype": "text/x-python",
   "name": "python",
   "nbconvert_exporter": "python",
   "pygments_lexer": "ipython3",
   "version": "3.9.2"
  }
 },
 "nbformat": 4,
 "nbformat_minor": 5
}
