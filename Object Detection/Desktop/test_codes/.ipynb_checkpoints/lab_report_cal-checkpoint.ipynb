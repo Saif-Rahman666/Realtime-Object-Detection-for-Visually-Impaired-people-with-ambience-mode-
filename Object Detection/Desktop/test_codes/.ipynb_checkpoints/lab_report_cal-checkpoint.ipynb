{
 "cells": [
  {
   "cell_type": "code",
   "execution_count": 64,
   "id": "81e51f19",
   "metadata": {},
   "outputs": [
    {
     "name": "stdout",
     "output_type": "stream",
     "text": [
      "1 => 32.4\n",
      "\n",
      "\n",
      "2 => 50.400000000000006\n",
      "\n",
      "\n",
      "3 => 68.4\n",
      "\n",
      "\n",
      "4 => 79.2\n",
      "\n",
      "\n",
      "5 => 82.28571428571428\n",
      "\n",
      "\n",
      "6 => 84.96000000000001\n",
      "\n",
      "\n",
      "7 => 86.39999999999999\n",
      "\n",
      "\n",
      "8 => 91.19999999999999\n",
      "\n",
      "\n"
     ]
    }
   ],
   "source": [
    "import math\n",
    "import numpy as np\n",
    "dT = [90,70,38,22,16,11.80,9.60,7.60]\n",
    "T = [1000,500,200,100,70,50,40,30]\n",
    "phaseM = []\n",
    "for i in range(len(T)):\n",
    "    cal = (dT[i]/T[i])*360\n",
    "    #cal = round(cal,3)\n",
    "    phaseM.append(cal)\n",
    "    print(str(i+1)+\" => \"+str(phaseM[i]))\n",
    "    print()\n",
    "    print()"
   ]
  },
  {
   "cell_type": "code",
   "execution_count": 67,
   "id": "08db58df",
   "metadata": {
    "scrolled": true
   },
   "outputs": [
    {
     "name": "stdout",
     "output_type": "stream",
     "text": [
      "1 => 32.14190763534205\n",
      "1591.5494309189537\n",
      "\n",
      "2 => 51.488112746033416\n",
      "795.7747154594769\n",
      "\n",
      "3 => 72.34321284858713\n",
      "318.3098861837907\n",
      "\n",
      "4 => 80.95693892096232\n",
      "159.15494309189535\n",
      "\n",
      "5 => 83.94338940576978\n",
      "106.10329539459691\n",
      "\n",
      "6 => 85.45013469087891\n",
      "79.57747154594767\n",
      "\n",
      "7 => 86.35735311227744\n",
      "63.66197723675813\n",
      "\n",
      "8 => 86.96321134656469\n",
      "53.051647697298456\n",
      "\n"
     ]
    }
   ],
   "source": [
    "R = 1000 #ohm\n",
    "C = 0.0000001 #Farad\n",
    "twoPi = 2*math.pi\n",
    "frequency = [1,2,5,10,15,20,25,30]\n",
    "i = 0\n",
    "phaseC = []\n",
    "for f in frequency:\n",
    "    Xc = 1/(twoPi*f*1000*C)\n",
    "    cal = math.atan(R/Xc)\n",
    "    cal = math.degrees(cal)\n",
    "    #cal = round(cal,3)\n",
    "    phaseC.append(cal)\n",
    "    print(str(i+1)+\" => \"+str(phaseC[i]))\n",
    "    print(Xc)\n",
    "    print()\n",
    "    i+=1\n",
    " "
   ]
  },
  {
   "cell_type": "code",
   "execution_count": 66,
   "id": "d064b96d",
   "metadata": {},
   "outputs": [
    {
     "name": "stdout",
     "output_type": "stream",
     "text": [
      "0.803\n",
      "2.113\n",
      "5.451\n",
      "2.17\n",
      "1.975\n",
      "0.574\n",
      "0.049\n",
      "4.872\n"
     ]
    }
   ],
   "source": [
    "\n",
    "\n",
    "for i in range(len(phaseM)):\n",
    "    error = ((phaseM[i]-phaseC[i])/phaseC[i])*100\n",
    "    print(round(abs(error),3))\n"
   ]
  },
  {
   "cell_type": "code",
   "execution_count": null,
   "id": "aa0d0840",
   "metadata": {},
   "outputs": [],
   "source": []
  },
  {
   "cell_type": "code",
   "execution_count": null,
   "id": "6f1928ec",
   "metadata": {},
   "outputs": [],
   "source": []
  }
 ],
 "metadata": {
  "kernelspec": {
   "display_name": "Python 3",
   "language": "python",
   "name": "python3"
  },
  "language_info": {
   "codemirror_mode": {
    "name": "ipython",
    "version": 3
   },
   "file_extension": ".py",
   "mimetype": "text/x-python",
   "name": "python",
   "nbconvert_exporter": "python",
   "pygments_lexer": "ipython3",
   "version": "3.9.2"
  }
 },
 "nbformat": 4,
 "nbformat_minor": 5
}
