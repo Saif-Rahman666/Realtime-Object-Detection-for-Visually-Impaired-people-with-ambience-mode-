{
 "cells": [
  {
   "cell_type": "code",
   "execution_count": 4,
   "id": "21f3aaed",
   "metadata": {},
   "outputs": [],
   "source": [
    "import cv2\n",
    "import numpy as np"
   ]
  },
  {
   "cell_type": "code",
   "execution_count": 15,
   "id": "adb25153",
   "metadata": {},
   "outputs": [
    {
     "name": "stdout",
     "output_type": "stream",
     "text": [
      "27\n"
     ]
    }
   ],
   "source": [
    "img = cv2.imread('E:/ambience_mode/new_test/sunrise1.jpg')\n",
    "img = cv2.resize(img,(224,224))\n",
    "img = np.array(img)\n",
    "print(img[0][0][0])\n",
    "img = (img/255)*2-1 #does the exact same thing as preprocess_input function of MobilenetV2 which is essential for preprocessing\n",
    "img = np.around(img,decimals=7)\n",
    "img = np.expand_dims(img,axis=0)"
   ]
  },
  {
   "cell_type": "code",
   "execution_count": 9,
   "id": "c2d9578b",
   "metadata": {},
   "outputs": [
    {
     "name": "stdout",
     "output_type": "stream",
     "text": [
      "[-0.7882353 -0.1921569  0.5921569]\n"
     ]
    }
   ],
   "source": [
    "print(img[0][0][0])"
   ]
  },
  {
   "cell_type": "code",
   "execution_count": 10,
   "id": "b7ad9d7d",
   "metadata": {},
   "outputs": [],
   "source": [
    "import os\n",
    "from tensorflow import keras\n",
    "from tensorflow.keras.models import load_model\n",
    "from pathlib import Path\n",
    "import numpy as np"
   ]
  },
  {
   "cell_type": "code",
   "execution_count": 11,
   "id": "64ce0d34",
   "metadata": {},
   "outputs": [],
   "source": [
    "model_path = 'E:/ambience_mode/new metrics/'\n",
    "model_name = 'new_best_model_weights.h5'\n",
    "mdl = os.path.join(model_path,model_name)\n",
    "model = load_model(mdl)"
   ]
  },
  {
   "cell_type": "code",
   "execution_count": 16,
   "id": "265b6093",
   "metadata": {},
   "outputs": [
    {
     "data": {
      "text/plain": [
       "array([[0.00783137, 0.5654146 , 0.03031014, 0.24892278, 0.14752115]],\n",
       "      dtype=float32)"
      ]
     },
     "execution_count": 16,
     "metadata": {},
     "output_type": "execute_result"
    }
   ],
   "source": [
    "model.predict(img)"
   ]
  },
  {
   "cell_type": "code",
   "execution_count": null,
   "id": "f69b29df",
   "metadata": {},
   "outputs": [],
   "source": []
  }
 ],
 "metadata": {
  "kernelspec": {
   "display_name": "Python 3",
   "language": "python",
   "name": "python3"
  },
  "language_info": {
   "codemirror_mode": {
    "name": "ipython",
    "version": 3
   },
   "file_extension": ".py",
   "mimetype": "text/x-python",
   "name": "python",
   "nbconvert_exporter": "python",
   "pygments_lexer": "ipython3",
   "version": "3.9.2"
  }
 },
 "nbformat": 4,
 "nbformat_minor": 5
}
