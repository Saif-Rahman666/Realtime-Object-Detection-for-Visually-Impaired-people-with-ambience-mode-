{
 "cells": [
  {
   "cell_type": "code",
   "execution_count": 1,
   "id": "bb069170",
   "metadata": {},
   "outputs": [
    {
     "name": "stdout",
     "output_type": "stream",
     "text": [
      "INFO:tensorflow:Enabling eager execution\n",
      "INFO:tensorflow:Enabling v2 tensorshape\n",
      "INFO:tensorflow:Enabling resource variables\n",
      "INFO:tensorflow:Enabling tensor equality\n",
      "INFO:tensorflow:Enabling control flow v2\n"
     ]
    }
   ],
   "source": [
    "import os\n",
    "from tensorflow import keras\n",
    "from tensorflow.keras.models import Model\n",
    "from tensorflow.keras.optimizers import Adam\n",
    "from tensorflow.keras.applications.mobilenet_v2 import MobileNetV2, preprocess_input\n",
    "from tensorflow.keras.preprocessing.image import ImageDataGenerator\n",
    "from tensorflow.keras.callbacks import ModelCheckpoint, EarlyStopping\n",
    "from tensorflow.keras.layers import Dense, Dropout, Flatten\n",
    "from tensorflow.keras.models import load_model\n",
    "from pathlib import Path\n",
    "import numpy as np"
   ]
  },
  {
   "cell_type": "code",
   "execution_count": 2,
   "id": "b662a97b",
   "metadata": {},
   "outputs": [],
   "source": [
    "#dataset pre-processing\n",
    "BATCH_SIZE = 32\n",
    "img_size = (224,224)\n",
    "#training data generator\n",
    "traingen = ImageDataGenerator(       rotation_range=90, \n",
    "                                     brightness_range=[0.1, 0.7],\n",
    "                                     width_shift_range=0.5, \n",
    "                                     height_shift_range=0.5,\n",
    "                                     horizontal_flip=True, \n",
    "                                     vertical_flip=True,\n",
    "                                     validation_split=0.15,\n",
    "                                     preprocessing_function=preprocess_input)\n",
    "\n",
    "#test dataset generator\n",
    "testgen = ImageDataGenerator(preprocessing_function=preprocess_input)"
   ]
  },
  {
   "cell_type": "code",
   "execution_count": 3,
   "id": "f7e945c3",
   "metadata": {},
   "outputs": [
    {
     "name": "stdout",
     "output_type": "stream",
     "text": [
      "Found 1275 images belonging to 5 classes.\n",
      "Found 223 images belonging to 5 classes.\n",
      "Found 30 images belonging to 5 classes.\n"
     ]
    }
   ],
   "source": [
    "#dataset path for training and testing data\n",
    "path_to_training_data = 'E:/ambience_mode/dataset/train'\n",
    "path_to_testing_data = 'E:/ambience_mode/dataset/test'\n",
    "\n",
    "#class labels\n",
    "labels = os.listdir(path_to_training_data)\n",
    "#training data\n",
    "training_data = traingen.flow_from_directory(  path_to_training_data,\n",
    "                                               target_size=img_size,\n",
    "                                               class_mode='categorical',\n",
    "                                               classes=labels,\n",
    "                                               subset='training',\n",
    "                                               batch_size=BATCH_SIZE, \n",
    "                                               shuffle=True,\n",
    "                                               seed=42)\n",
    "#validation data\n",
    "validation_data = traingen.flow_from_directory(path_to_training_data,\n",
    "                                               target_size=img_size,\n",
    "                                               class_mode='categorical',\n",
    "                                               classes=labels,\n",
    "                                               subset='validation',\n",
    "                                               batch_size=BATCH_SIZE, \n",
    "                                               shuffle=True,\n",
    "                                               seed=42)\n",
    "\n",
    "#testing data\n",
    "testing_data = testgen.flow_from_directory(    path_to_testing_data,\n",
    "                                               target_size=img_size,\n",
    "                                               class_mode=None,\n",
    "                                               classes=labels,\n",
    "                                               batch_size=1, \n",
    "                                               shuffle=False,\n",
    "                                               seed=42)"
   ]
  },
  {
   "cell_type": "code",
   "execution_count": 4,
   "id": "92c76a01",
   "metadata": {},
   "outputs": [],
   "source": [
    "model_path = 'E:/ambience_mode/new metrics'\n"
   ]
  },
  {
   "cell_type": "code",
   "execution_count": 5,
   "id": "41553def",
   "metadata": {},
   "outputs": [],
   "source": [
    "from keras.callbacks import ModelCheckpoint, EarlyStopping\n",
    "top_weights_path = os.path.join(os.path.abspath(model_path), 'best_model_weights.h5')\n",
    "callbacks_list = [\n",
    "        ModelCheckpoint(top_weights_path, monitor='val_accuracy', verbose=1, save_best_only=True),\n",
    "        EarlyStopping(monitor='val_accuracy', patience=5, verbose=0)\n",
    "    ]"
   ]
  },
  {
   "cell_type": "code",
   "execution_count": 6,
   "id": "fc4f6ba0",
   "metadata": {},
   "outputs": [],
   "source": [
    "model = load_model(os.path.join(os.path.abspath(model_path), 'best_model_weights.h5'))"
   ]
  },
  {
   "cell_type": "code",
   "execution_count": 7,
   "id": "15f7e0af",
   "metadata": {},
   "outputs": [
    {
     "name": "stdout",
     "output_type": "stream",
     "text": [
      "Model: \"model_1\"\n",
      "_________________________________________________________________\n",
      "Layer (type)                 Output Shape              Param #   \n",
      "=================================================================\n",
      "input_4 (InputLayer)         [(None, 224, 224, 3)]     0         \n",
      "_________________________________________________________________\n",
      "mobilenetv2_1.00_224 (Functi (None, 7, 7, 1280)        2257984   \n",
      "_________________________________________________________________\n",
      "global_average_pooling2d_1 ( (None, 1280)              0         \n",
      "_________________________________________________________________\n",
      "dropout_1 (Dropout)          (None, 1280)              0         \n",
      "_________________________________________________________________\n",
      "dense_1 (Dense)              (None, 5)                 6405      \n",
      "=================================================================\n",
      "Total params: 2,264,389\n",
      "Trainable params: 6,405\n",
      "Non-trainable params: 2,257,984\n",
      "_________________________________________________________________\n"
     ]
    }
   ],
   "source": [
    "model.summary()"
   ]
  },
  {
   "cell_type": "code",
   "execution_count": 8,
   "id": "43da23e4",
   "metadata": {},
   "outputs": [
    {
     "name": "stdout",
     "output_type": "stream",
     "text": [
      "Epoch 1/20\n",
      "40/40 [==============================] - 190s 5s/step - loss: 0.7156 - accuracy: 0.7341 - val_loss: 0.6798 - val_accuracy: 0.7444\n",
      "\n",
      "Epoch 00001: val_accuracy improved from -inf to 0.74439, saving model to E:\\ambience_mode\\new metrics\\best_model_weights.h5\n"
     ]
    },
    {
     "name": "stderr",
     "output_type": "stream",
     "text": [
      "c:\\users\\raihan\\anaconda3\\envs\\obj_detection\\lib\\site-packages\\tensorflow\\python\\keras\\utils\\generic_utils.py:494: CustomMaskWarning: Custom mask layers require a config and must override get_config. When loading, the custom mask layer must be passed to the custom_objects argument.\n",
      "  warnings.warn('Custom mask layers require a config and must override '\n"
     ]
    },
    {
     "name": "stdout",
     "output_type": "stream",
     "text": [
      "Epoch 2/20\n",
      "40/40 [==============================] - 161s 4s/step - loss: 0.7424 - accuracy: 0.7310 - val_loss: 0.7808 - val_accuracy: 0.7130\n",
      "\n",
      "Epoch 00002: val_accuracy did not improve from 0.74439\n",
      "Epoch 3/20\n",
      "40/40 [==============================] - 159s 4s/step - loss: 0.7167 - accuracy: 0.7373 - val_loss: 0.6523 - val_accuracy: 0.7668\n",
      "\n",
      "Epoch 00003: val_accuracy improved from 0.74439 to 0.76682, saving model to E:\\ambience_mode\\new metrics\\best_model_weights.h5\n",
      "Epoch 4/20\n",
      "40/40 [==============================] - 161s 4s/step - loss: 0.6833 - accuracy: 0.7553 - val_loss: 0.6710 - val_accuracy: 0.7309\n",
      "\n",
      "Epoch 00004: val_accuracy did not improve from 0.76682\n",
      "Epoch 5/20\n",
      "40/40 [==============================] - 159s 4s/step - loss: 0.6485 - accuracy: 0.7592 - val_loss: 0.6484 - val_accuracy: 0.7578\n",
      "\n",
      "Epoch 00005: val_accuracy did not improve from 0.76682\n",
      "Epoch 6/20\n",
      "40/40 [==============================] - 158s 4s/step - loss: 0.6540 - accuracy: 0.7624 - val_loss: 0.6746 - val_accuracy: 0.7489\n",
      "\n",
      "Epoch 00006: val_accuracy did not improve from 0.76682\n",
      "Epoch 7/20\n",
      "40/40 [==============================] - 159s 4s/step - loss: 0.6492 - accuracy: 0.7686 - val_loss: 0.6817 - val_accuracy: 0.7534\n",
      "\n",
      "Epoch 00007: val_accuracy did not improve from 0.76682\n",
      "Epoch 8/20\n",
      "40/40 [==============================] - 160s 4s/step - loss: 0.6414 - accuracy: 0.7553 - val_loss: 0.6635 - val_accuracy: 0.7578\n",
      "\n",
      "Epoch 00008: val_accuracy did not improve from 0.76682\n"
     ]
    },
    {
     "data": {
      "text/plain": [
       "<tensorflow.python.keras.callbacks.History at 0x2aa6af61490>"
      ]
     },
     "execution_count": 8,
     "metadata": {},
     "output_type": "execute_result"
    }
   ],
   "source": [
    "model.fit(training_data, epochs=20, validation_data=validation_data,callbacks=callbacks_list)"
   ]
  },
  {
   "cell_type": "code",
   "execution_count": 51,
   "id": "f132c9e1",
   "metadata": {},
   "outputs": [],
   "source": [
    "import cv2\n"
   ]
  },
  {
   "cell_type": "code",
   "execution_count": 263,
   "id": "475677a2",
   "metadata": {},
   "outputs": [],
   "source": [
    "#important for inference\n",
    "img = cv2.imread('E:/ambience_mode/dataset/test/rainy/rain_6.jpg')\n",
    "img = cv2.resize(img,(224,224))\n",
    "img = np.array(img)\n",
    "img = (img/255)*2-1 #does the exact same thing as preprocess_input function of MobilenetV2 which is essential for preprocessing\n",
    "img = np.around(img,decimals=7)\n",
    "img = np.expand_dims(img,axis=0)"
   ]
  },
  {
   "cell_type": "code",
   "execution_count": null,
   "id": "eb0edb51",
   "metadata": {},
   "outputs": [],
   "source": []
  },
  {
   "cell_type": "code",
   "execution_count": null,
   "id": "014765a8",
   "metadata": {},
   "outputs": [],
   "source": []
  },
  {
   "cell_type": "code",
   "execution_count": 264,
   "id": "525b6080",
   "metadata": {},
   "outputs": [],
   "source": [
    "model=load_model(os.path.join(os.path.abspath(model_path), 'best_model_weights.h5'))"
   ]
  },
  {
   "cell_type": "code",
   "execution_count": 265,
   "id": "76f16ca3",
   "metadata": {},
   "outputs": [],
   "source": [
    "pred = model.predict(img)"
   ]
  },
  {
   "cell_type": "code",
   "execution_count": 266,
   "id": "46fa9a4b",
   "metadata": {},
   "outputs": [
    {
     "name": "stdout",
     "output_type": "stream",
     "text": [
      "[[0.014 0.141 0.839 0.    0.005]]\n"
     ]
    }
   ],
   "source": [
    "print(np.around(pred,decimals=3))"
   ]
  },
  {
   "cell_type": "code",
   "execution_count": 270,
   "id": "e1a45544",
   "metadata": {},
   "outputs": [
    {
     "name": "stdout",
     "output_type": "stream",
     "text": [
      "rainy\n"
     ]
    }
   ],
   "source": [
    "pred_classes = np.argmax(pred, axis=1)\n",
    "print(labels[pred_classes[0]])"
   ]
  },
  {
   "cell_type": "code",
   "execution_count": null,
   "id": "61fef460",
   "metadata": {},
   "outputs": [],
   "source": []
  },
  {
   "cell_type": "code",
   "execution_count": 82,
   "id": "f5f7b204",
   "metadata": {},
   "outputs": [
    {
     "name": "stdout",
     "output_type": "stream",
     "text": [
      "['cloudy', 'cloudy', 'cloudy', 'cloudy', 'foggy', 'foggy', 'foggy', 'foggy', 'foggy', 'foggy', 'foggy', 'foggy', 'foggy', 'foggy', 'rainy', 'rainy', 'rainy', 'rainy', 'rainy', 'rainy', 'shine', 'shine', 'shine', 'sunrise', 'sunrise', 'sunrise', 'sunrise', 'sunrise', 'sunrise', 'sunrise']\n",
      "['cloudy', 'cloudy', 'shine', 'cloudy', 'foggy', 'foggy', 'foggy', 'foggy', 'foggy', 'foggy', 'foggy', 'foggy', 'foggy', 'foggy', 'foggy', 'rainy', 'rainy', 'foggy', 'foggy', 'rainy', 'shine', 'shine', 'shine', 'sunrise', 'sunrise', 'sunrise', 'sunrise', 'sunrise', 'sunrise', 'sunrise']\n"
     ]
    }
   ],
   "source": [
    "true_label = []\n",
    "predicted_label = []\n",
    "\n",
    "for i in testing_data.classes:\n",
    "    true_label.append(labels[i])\n",
    "\n",
    "for i in pred_classes:\n",
    "    predicted_label.append(labels[i])\n",
    "\n",
    "print(true_label)\n",
    "print(predicted_label)"
   ]
  },
  {
   "cell_type": "code",
   "execution_count": 227,
   "id": "4c4b6616",
   "metadata": {},
   "outputs": [],
   "source": [
    "from sklearn.metrics import confusion_matrix\n",
    "import pandas as pd\n",
    "import matplotlib.pyplot as plt\n",
    "import seaborn as sns"
   ]
  },
  {
   "cell_type": "code",
   "execution_count": 83,
   "id": "2d83cb60",
   "metadata": {},
   "outputs": [
    {
     "data": {
      "text/plain": [
       "Text(69.0, 0.5, 'Truth')"
      ]
     },
     "execution_count": 83,
     "metadata": {},
     "output_type": "execute_result"
    },
    {
     "data": {
      "image/png": "[encoded data removed]",
      "text/plain": [
       "<Figure size 720x504 with 1 Axes>"
      ]
     },
     "metadata": {
      "needs_background": "light"
     },
     "output_type": "display_data"
    }
   ],
   "source": [
    "cm_labels = np.unique(true_label)\n",
    "cm_array = confusion_matrix(true_label, predicted_label)\n",
    "cm_array_df = pd.DataFrame(cm_array, index=cm_labels, columns=cm_labels)\n",
    "\n",
    "\n",
    "#cm = confusion_matrix(test_labels, prediction_RF)\n",
    "#print(cm)\n",
    "\n",
    "%matplotlib inline\n",
    "\n",
    "plt.figure(figsize=(10,7)).supxlabel('Figure : Confusion Matrix')\n",
    "\n",
    "sns.heatmap(cm_array_df, annot=True,cbar = False) \n",
    "#sns.heatmap(cm, annot=True)\n",
    "plt.xlabel('Predicted')\n",
    "plt.ylabel('Truth')"
   ]
  },
  {
   "cell_type": "code",
   "execution_count": 228,
   "id": "3352f90a",
   "metadata": {},
   "outputs": [
    {
     "ename": "TypeError",
     "evalue": "Invalid shape (1, 224, 224, 3) for image data",
     "output_type": "error",
     "traceback": [
      "\u001b[1;31m---------------------------------------------------------------------------\u001b[0m",
      "\u001b[1;31mTypeError\u001b[0m                                 Traceback (most recent call last)",
      "\u001b[1;32m<ipython-input-228-23af6c37b3d0>\u001b[0m in \u001b[0;36m<module>\u001b[1;34m\u001b[0m\n\u001b[1;32m----> 1\u001b[1;33m \u001b[0mplt\u001b[0m\u001b[1;33m.\u001b[0m\u001b[0mimshow\u001b[0m\u001b[1;33m(\u001b[0m\u001b[0mimg\u001b[0m\u001b[1;33m)\u001b[0m\u001b[1;33m\u001b[0m\u001b[1;33m\u001b[0m\u001b[0m\n\u001b[0m",
      "\u001b[1;32mc:\\users\\raihan\\anaconda3\\envs\\obj_detection\\lib\\site-packages\\matplotlib\\pyplot.py\u001b[0m in \u001b[0;36mimshow\u001b[1;34m(X, cmap, norm, aspect, interpolation, alpha, vmin, vmax, origin, extent, filternorm, filterrad, resample, url, data, **kwargs)\u001b[0m\n\u001b[0;32m   2870\u001b[0m         \u001b[0mfilternorm\u001b[0m\u001b[1;33m=\u001b[0m\u001b[1;32mTrue\u001b[0m\u001b[1;33m,\u001b[0m \u001b[0mfilterrad\u001b[0m\u001b[1;33m=\u001b[0m\u001b[1;36m4.0\u001b[0m\u001b[1;33m,\u001b[0m \u001b[0mresample\u001b[0m\u001b[1;33m=\u001b[0m\u001b[1;32mNone\u001b[0m\u001b[1;33m,\u001b[0m \u001b[0murl\u001b[0m\u001b[1;33m=\u001b[0m\u001b[1;32mNone\u001b[0m\u001b[1;33m,\u001b[0m\u001b[1;33m\u001b[0m\u001b[1;33m\u001b[0m\u001b[0m\n\u001b[0;32m   2871\u001b[0m         data=None, **kwargs):\n\u001b[1;32m-> 2872\u001b[1;33m     __ret = gca().imshow(\n\u001b[0m\u001b[0;32m   2873\u001b[0m         \u001b[0mX\u001b[0m\u001b[1;33m,\u001b[0m \u001b[0mcmap\u001b[0m\u001b[1;33m=\u001b[0m\u001b[0mcmap\u001b[0m\u001b[1;33m,\u001b[0m \u001b[0mnorm\u001b[0m\u001b[1;33m=\u001b[0m\u001b[0mnorm\u001b[0m\u001b[1;33m,\u001b[0m \u001b[0maspect\u001b[0m\u001b[1;33m=\u001b[0m\u001b[0maspect\u001b[0m\u001b[1;33m,\u001b[0m\u001b[1;33m\u001b[0m\u001b[1;33m\u001b[0m\u001b[0m\n\u001b[0;32m   2874\u001b[0m         \u001b[0minterpolation\u001b[0m\u001b[1;33m=\u001b[0m\u001b[0minterpolation\u001b[0m\u001b[1;33m,\u001b[0m \u001b[0malpha\u001b[0m\u001b[1;33m=\u001b[0m\u001b[0malpha\u001b[0m\u001b[1;33m,\u001b[0m \u001b[0mvmin\u001b[0m\u001b[1;33m=\u001b[0m\u001b[0mvmin\u001b[0m\u001b[1;33m,\u001b[0m\u001b[1;33m\u001b[0m\u001b[1;33m\u001b[0m\u001b[0m\n",
      "\u001b[1;32mc:\\users\\raihan\\anaconda3\\envs\\obj_detection\\lib\\site-packages\\matplotlib\\__init__.py\u001b[0m in \u001b[0;36minner\u001b[1;34m(ax, data, *args, **kwargs)\u001b[0m\n\u001b[0;32m   1350\u001b[0m     \u001b[1;32mdef\u001b[0m \u001b[0minner\u001b[0m\u001b[1;33m(\u001b[0m\u001b[0max\u001b[0m\u001b[1;33m,\u001b[0m \u001b[1;33m*\u001b[0m\u001b[0margs\u001b[0m\u001b[1;33m,\u001b[0m \u001b[0mdata\u001b[0m\u001b[1;33m=\u001b[0m\u001b[1;32mNone\u001b[0m\u001b[1;33m,\u001b[0m \u001b[1;33m**\u001b[0m\u001b[0mkwargs\u001b[0m\u001b[1;33m)\u001b[0m\u001b[1;33m:\u001b[0m\u001b[1;33m\u001b[0m\u001b[1;33m\u001b[0m\u001b[0m\n\u001b[0;32m   1351\u001b[0m         \u001b[1;32mif\u001b[0m \u001b[0mdata\u001b[0m \u001b[1;32mis\u001b[0m \u001b[1;32mNone\u001b[0m\u001b[1;33m:\u001b[0m\u001b[1;33m\u001b[0m\u001b[1;33m\u001b[0m\u001b[0m\n\u001b[1;32m-> 1352\u001b[1;33m             \u001b[1;32mreturn\u001b[0m \u001b[0mfunc\u001b[0m\u001b[1;33m(\u001b[0m\u001b[0max\u001b[0m\u001b[1;33m,\u001b[0m \u001b[1;33m*\u001b[0m\u001b[0mmap\u001b[0m\u001b[1;33m(\u001b[0m\u001b[0msanitize_sequence\u001b[0m\u001b[1;33m,\u001b[0m \u001b[0margs\u001b[0m\u001b[1;33m)\u001b[0m\u001b[1;33m,\u001b[0m \u001b[1;33m**\u001b[0m\u001b[0mkwargs\u001b[0m\u001b[1;33m)\u001b[0m\u001b[1;33m\u001b[0m\u001b[1;33m\u001b[0m\u001b[0m\n\u001b[0m\u001b[0;32m   1353\u001b[0m \u001b[1;33m\u001b[0m\u001b[0m\n\u001b[0;32m   1354\u001b[0m         \u001b[0mbound\u001b[0m \u001b[1;33m=\u001b[0m \u001b[0mnew_sig\u001b[0m\u001b[1;33m.\u001b[0m\u001b[0mbind\u001b[0m\u001b[1;33m(\u001b[0m\u001b[0max\u001b[0m\u001b[1;33m,\u001b[0m \u001b[1;33m*\u001b[0m\u001b[0margs\u001b[0m\u001b[1;33m,\u001b[0m \u001b[1;33m**\u001b[0m\u001b[0mkwargs\u001b[0m\u001b[1;33m)\u001b[0m\u001b[1;33m\u001b[0m\u001b[1;33m\u001b[0m\u001b[0m\n",
      "\u001b[1;32mc:\\users\\raihan\\anaconda3\\envs\\obj_detection\\lib\\site-packages\\matplotlib\\axes\\_axes.py\u001b[0m in \u001b[0;36mimshow\u001b[1;34m(self, X, cmap, norm, aspect, interpolation, alpha, vmin, vmax, origin, extent, filternorm, filterrad, resample, url, **kwargs)\u001b[0m\n\u001b[0;32m   5587\u001b[0m                               resample=resample, **kwargs)\n\u001b[0;32m   5588\u001b[0m \u001b[1;33m\u001b[0m\u001b[0m\n\u001b[1;32m-> 5589\u001b[1;33m         \u001b[0mim\u001b[0m\u001b[1;33m.\u001b[0m\u001b[0mset_data\u001b[0m\u001b[1;33m(\u001b[0m\u001b[0mX\u001b[0m\u001b[1;33m)\u001b[0m\u001b[1;33m\u001b[0m\u001b[1;33m\u001b[0m\u001b[0m\n\u001b[0m\u001b[0;32m   5590\u001b[0m         \u001b[0mim\u001b[0m\u001b[1;33m.\u001b[0m\u001b[0mset_alpha\u001b[0m\u001b[1;33m(\u001b[0m\u001b[0malpha\u001b[0m\u001b[1;33m)\u001b[0m\u001b[1;33m\u001b[0m\u001b[1;33m\u001b[0m\u001b[0m\n\u001b[0;32m   5591\u001b[0m         \u001b[1;32mif\u001b[0m \u001b[0mim\u001b[0m\u001b[1;33m.\u001b[0m\u001b[0mget_clip_path\u001b[0m\u001b[1;33m(\u001b[0m\u001b[1;33m)\u001b[0m \u001b[1;32mis\u001b[0m \u001b[1;32mNone\u001b[0m\u001b[1;33m:\u001b[0m\u001b[1;33m\u001b[0m\u001b[1;33m\u001b[0m\u001b[0m\n",
      "\u001b[1;32mc:\\users\\raihan\\anaconda3\\envs\\obj_detection\\lib\\site-packages\\matplotlib\\image.py\u001b[0m in \u001b[0;36mset_data\u001b[1;34m(self, A)\u001b[0m\n\u001b[0;32m    707\u001b[0m         if not (self._A.ndim == 2\n\u001b[0;32m    708\u001b[0m                 or self._A.ndim == 3 and self._A.shape[-1] in [3, 4]):\n\u001b[1;32m--> 709\u001b[1;33m             raise TypeError(\"Invalid shape {} for image data\"\n\u001b[0m\u001b[0;32m    710\u001b[0m                             .format(self._A.shape))\n\u001b[0;32m    711\u001b[0m \u001b[1;33m\u001b[0m\u001b[0m\n",
      "\u001b[1;31mTypeError\u001b[0m: Invalid shape (1, 224, 224, 3) for image data"
     ]
    },
    {
     "data": {
      "image/png": "[encoded data removed]",
      "text/plain": [
       "<Figure size 432x288 with 1 Axes>"
      ]
     },
     "metadata": {
      "needs_background": "light"
     },
     "output_type": "display_data"
    }
   ],
   "source": []
  },
  {
   "cell_type": "code",
   "execution_count": null,
   "id": "92e39e9b",
   "metadata": {},
   "outputs": [],
   "source": []
  }
 ],
 "metadata": {
  "kernelspec": {
   "display_name": "Python 3",
   "language": "python",
   "name": "python3"
  },
  "language_info": {
   "codemirror_mode": {
    "name": "ipython",
    "version": 3
   },
   "file_extension": ".py",
   "mimetype": "text/x-python",
   "name": "python",
   "nbconvert_exporter": "python",
   "pygments_lexer": "ipython3",
   "version": "3.9.2"
  }
 },
 "nbformat": 4,
 "nbformat_minor": 5
}
