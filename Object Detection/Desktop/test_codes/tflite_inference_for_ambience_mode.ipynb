{
 "cells": [
  {
   "cell_type": "code",
   "execution_count": 1,
   "id": "432d2ba0",
   "metadata": {},
   "outputs": [],
   "source": [
    "#This code is a modified version of edje electronic's tflite inference code written by author \"Evan Juras\" \n",
    "#ALl the variables and functions have been vastly modified according to our needs\n",
    "#We also added our own function for audio feedback\n",
    "#import necessary packages\n",
    "import os\n",
    "import argparse\n",
    "import cv2\n",
    "import numpy as np\n",
    "import sys\n",
    "import importlib.util\n",
    "from threading import Thread\n",
    "import time\n",
    "import pygame"
   ]
  },
  {
   "cell_type": "code",
   "execution_count": 2,
   "id": "573e5033",
   "metadata": {},
   "outputs": [],
   "source": [
    "class VideoStream:\n",
    "    \"\"\"Camera object that controls video streaming from the Picamera\"\"\"\n",
    "    def __init__(self,resolution=(640,480),framerate=30):\n",
    "        # Initialize the PiCamera and the camera image stream\n",
    "        self.stream = cv2.VideoCapture(0)\n",
    "        ret = self.stream.set(cv2.CAP_PROP_FOURCC, cv2.VideoWriter_fourcc(*'MJPG'))\n",
    "        ret = self.stream.set(3,resolution[0])\n",
    "        ret = self.stream.set(4,resolution[1])\n",
    "            \n",
    "        # Read first frame from the stream\n",
    "        (self.grabbed, self.frame) = self.stream.read()\n",
    "\n",
    "\t# Variable to control when the camera is stopped\n",
    "        self.stopped = False\n",
    "\n",
    "    def start(self):\n",
    "\t# Start the thread that reads frames from the video stream\n",
    "        Thread(target=self.update,args=()).start()\n",
    "        return self\n",
    "\n",
    "    def update(self):\n",
    "        # Keep looping indefinitely until the thread is stopped\n",
    "        while True:\n",
    "            # If the camera is stopped, stop the thread\n",
    "            if self.stopped:\n",
    "                # Close camera resources\n",
    "                self.stream.release()\n",
    "                return\n",
    "\n",
    "            # Otherwise, grab the next frame from the stream\n",
    "            (self.grabbed, self.frame) = self.stream.read()\n",
    "\n",
    "    def read(self):\n",
    "\t# Return the most recent frame\n",
    "        return self.frame\n",
    "\n",
    "    def stop(self):\n",
    "\t# Indicate that the camera and thread should be stopped\n",
    "        self.stopped = True"
   ]
  },
  {
   "cell_type": "code",
   "execution_count": 3,
   "id": "51ad6ff4",
   "metadata": {},
   "outputs": [
    {
     "data": {
      "text/plain": [
       "'E:\\\\ambience_mode'"
      ]
     },
     "execution_count": 3,
     "metadata": {},
     "output_type": "execute_result"
    }
   ],
   "source": [
    "CWD_PATH = os.chdir('E:/ambience_mode')\n",
    "CWD_PATH = os.getcwd()"
   ]
  },
  {
   "cell_type": "code",
   "execution_count": 4,
   "id": "4ff42930",
   "metadata": {},
   "outputs": [],
   "source": [
    "#required variables\n",
    "MODEL_NAME = 'models/'\n",
    "GRAPH_NAME = 'tflite_model_5_quant.tflite'\n",
    "LABELMAP_NAME = 'labelmap.txt'\n",
    "VIDEO_NAME = 'video_test/video_test_5.mp4'\n",
    "resolution = '1280x720'\n",
    "resW, resH = resolution.split('x')\n",
    "imW, imH = int(resW), int(resH)\n",
    "min_conf_threshold = float(0.7)"
   ]
  },
  {
   "cell_type": "code",
   "execution_count": 5,
   "id": "f99dacd6",
   "metadata": {},
   "outputs": [
    {
     "name": "stdout",
     "output_type": "stream",
     "text": [
      "INFO:tensorflow:Enabling eager execution\n",
      "INFO:tensorflow:Enabling v2 tensorshape\n",
      "INFO:tensorflow:Enabling resource variables\n",
      "INFO:tensorflow:Enabling tensor equality\n",
      "INFO:tensorflow:Enabling control flow v2\n"
     ]
    }
   ],
   "source": [
    "# Import TensorFlow libraries\n",
    "# If tflite_runtime is installed, import interpreter from tflite_runtime, else import from regular tensorflow\n",
    "pkg = importlib.util.find_spec('tflite_runtime')\n",
    "if pkg:\n",
    "    from tflite_runtime.interpreter import Interpreter\n",
    "else:\n",
    "    from tensorflow.lite.python.interpreter import Interpreter\n",
    "\n",
    "# Get path to current working directory\n",
    "CWD_PATH = os.getcwd()\n",
    "\n",
    "# Path to video file (if inferencing from a video)\n",
    "VIDEO_PATH = os.path.join(CWD_PATH,VIDEO_NAME)\n",
    "\n",
    "# Path to .tflite file, which contains the model that is used for object detection\n",
    "PATH_TO_CKPT = os.path.join(CWD_PATH,MODEL_NAME,GRAPH_NAME)\n",
    "\n",
    "# Path to label map file\n",
    "PATH_TO_LABELS = os.path.join(CWD_PATH,MODEL_NAME,LABELMAP_NAME)\n",
    "\n",
    "# Load the label map\n",
    "with open(PATH_TO_LABELS, 'r') as f:\n",
    "    labels = [line.strip() for line in f.readlines()]\n",
    "\n",
    "    \n",
    "# Load the Tensorflow Lite model.\n",
    "interpreter = Interpreter(model_path=PATH_TO_CKPT)\n",
    "interpreter.allocate_tensors()"
   ]
  },
  {
   "cell_type": "code",
   "execution_count": 6,
   "id": "f0cb6925",
   "metadata": {},
   "outputs": [
    {
     "name": "stdout",
     "output_type": "stream",
     "text": [
      "[{'name': 'Identity', 'index': 179, 'shape': array([1, 4]), 'shape_signature': array([-1,  4]), 'dtype': <class 'numpy.uint8'>, 'quantization': (0.00390625, 0), 'quantization_parameters': {'scales': array([0.00390625], dtype=float32), 'zero_points': array([0]), 'quantized_dimension': 0}, 'sparsity_parameters': {}}]\n",
      "Scale: 0.00390625 | Zero Point: 0\n"
     ]
    }
   ],
   "source": [
    "# Get model details\n",
    "input_details = interpreter.get_input_details()\n",
    "output_details = interpreter.get_output_details()\n",
    "height = input_details[0]['shape'][1]\n",
    "width = input_details[0]['shape'][2]\n",
    "\n",
    "scale,zero_point = output_details[0]['quantization']\n"
   ]
  },
  {
   "cell_type": "code",
   "execution_count": 7,
   "id": "d2c232a2",
   "metadata": {},
   "outputs": [
    {
     "data": {
      "text/plain": [
       "['cloudy', 'foggy', 'rainy', 'sunrise']"
      ]
     },
     "execution_count": 7,
     "metadata": {},
     "output_type": "execute_result"
    }
   ],
   "source": [
    "labels"
   ]
  },
  {
   "cell_type": "code",
   "execution_count": 8,
   "id": "5da721fc",
   "metadata": {},
   "outputs": [],
   "source": [
    "# Initialize frame rate calculation\n",
    "frame_rate_calc = 1\n",
    "freq = cv2.getTickFrequency()\n",
    "\n",
    "# for ambience mode models\n",
    "floating_model = (input_details[0]['dtype'] == np.float32)\n",
    "\n",
    "input_mean = 127.5\n",
    "input_std = 127.5"
   ]
  },
  {
   "cell_type": "code",
   "execution_count": null,
   "id": "ceef92dc",
   "metadata": {},
   "outputs": [],
   "source": []
  },
  {
   "cell_type": "code",
   "execution_count": 9,
   "id": "0d2825a4",
   "metadata": {},
   "outputs": [],
   "source": [
    "# Initialize video stream\n",
    "videostream = VideoStream(resolution=(imW,imH),framerate=30).start()\n",
    "time.sleep(1)\n",
    "\n",
    "# Loop over every image and perform detection\n",
    "while (True):\n",
    "    \n",
    "    # Start timer (for calculating frame rate)\n",
    "    t1 = cv2.getTickCount()\n",
    "    \n",
    "    # grab frame from video stream\n",
    "    frame1 = videostream.read()\n",
    "    \n",
    "    # Load frame and resize to expected shape [1xHxWx3]\n",
    "    frame = frame1.copy()\n",
    "    frame_rgb = cv2.cvtColor(frame, cv2.COLOR_BGR2RGB)\n",
    "    frame_resized = cv2.resize(frame_rgb, (width, height))\n",
    "    input_data = np.expand_dims(frame_resized, axis=0)\n",
    "    frameH, frameW = int(imH),int(imW) \n",
    "\n",
    "    # Normalize pixel values if using a floating model (i.e. if model is non-quantized)\n",
    "    if floating_model:\n",
    "        input_data = (np.float32(input_data) - input_mean) / input_std\n",
    "\n",
    "    # Perform the actual detection by running the model with the image as input\n",
    "    interpreter.set_tensor(input_details[0]['index'],input_data)\n",
    "    interpreter.invoke()\n",
    "    \n",
    "    #***************************************************for pre-trained models**************************************************\n",
    "    # Retrieve detection results \n",
    "    #boxes = interpreter.get_tensor(output_details[0]['index'])[0] # Bounding box coordinates of detected objects\n",
    "    #classes = interpreter.get_tensor(output_details[1]['index'])[0] # Class index of detected objects\n",
    "    #scores = interpreter.get_tensor(output_details[2]['index'])[0] # Confidence of detected objects\n",
    "    #num = interpreter.get_tensor(output_details[3]['index'])[0]  # Total number of detected objects (inaccurate and not needed)\n",
    "    #***************************************************for pre-trained models**************************************************\n",
    "    \n",
    "    # Retrieve detection results\n",
    "    scores = interpreter.get_tensor(output_details[0]['index'])[0] # Confidence of detected objects\n",
    "    scores = (scores-zero_point)*scale #normalizing confidence score\n",
    "    \n",
    "    label_index = np.argmax(scores, axis = 0) # select the index of the highest confidence score\n",
    "    \n",
    "    # Select the one over all detections that has the highest confidence score and check if it is above minimum threshold\n",
    "    if ((scores[label_index] > min_conf_threshold) and (scores[label_index] <= 1.0)):\n",
    "        # Get bounding box coordinates and draw box in this case it is going to be static\n",
    "        ymin = 9\n",
    "        xmin = 9\n",
    "        ymax = frameH-9\n",
    "        xmax = frameW-9\n",
    "            \n",
    "        cv2.rectangle(frame, (xmin,ymin), (xmax,ymax), (10, 255, 0), 2)\n",
    "            \n",
    "        # Draw label\n",
    "        object_name = labels[label_index] # Look up object name from \"labels\" array using class index\n",
    "        label = '%s: %d%%' % (object_name, int(scores[label_index]*100)) # Example: 'person: 72%'\n",
    "        labelSize, baseLine = cv2.getTextSize(label, cv2.FONT_HERSHEY_SIMPLEX, 0.7, 2) # Get font size\n",
    "        label_ymin = max(ymin, labelSize[1] + 10) # Make sure not to draw label too close to top of window\n",
    "        cv2.rectangle(frame, (xmin, label_ymin-labelSize[1]-10), (xmin+labelSize[0], label_ymin+baseLine-10), (255, 255, 255), cv2.FILLED) # Draw white box to put label text in\n",
    "        cv2.putText(frame, label, (xmin, label_ymin-7), cv2.FONT_HERSHEY_SIMPLEX, 0.7, (0, 0, 0), 2) # Draw label text\n",
    "\n",
    "        \n",
    "    # Draw framerate in corner of frame\n",
    "    cv2.putText(frame,'FPS: {0:.2f}'.format(frame_rate_calc),(30,50),cv2.FONT_HERSHEY_SIMPLEX,1,(255,255,0),2,cv2.LINE_AA)\n",
    "\n",
    "    # The result has been drawn on the frame, so it's time to display it.\n",
    "    cv2.imshow('Object detector', frame)\n",
    "    \n",
    "    # Calculate framerate\n",
    "    t2 = cv2.getTickCount()\n",
    "    time1 = (t2-t1)/freq\n",
    "    frame_rate_calc= 1/time1\n",
    "\n",
    "    # Press any key to continue to next image, or press 'q' to quit\n",
    "    if cv2.waitKey(1) == ord('q'):\n",
    "        break\n",
    "\n",
    "# Clean up\n",
    "cv2.destroyAllWindows()\n",
    "videostream.stop()"
   ]
  },
  {
   "cell_type": "code",
   "execution_count": null,
   "id": "2b80122f",
   "metadata": {},
   "outputs": [],
   "source": []
  }
 ],
 "metadata": {
  "kernelspec": {
   "display_name": "Python 3",
   "language": "python",
   "name": "python3"
  },
  "language_info": {
   "codemirror_mode": {
    "name": "ipython",
    "version": 3
   },
   "file_extension": ".py",
   "mimetype": "text/x-python",
   "name": "python",
   "nbconvert_exporter": "python",
   "pygments_lexer": "ipython3",
   "version": "3.9.2"
  }
 },
 "nbformat": 4,
 "nbformat_minor": 5
}
