{
 "cells": [
  {
   "cell_type": "code",
   "execution_count": 13,
   "id": "2bd3f377",
   "metadata": {},
   "outputs": [
    {
     "ename": "SyntaxError",
     "evalue": "invalid syntax (<ipython-input-13-785020cee48f>, line 5)",
     "output_type": "error",
     "traceback": [
      "\u001b[1;36m  File \u001b[1;32m\"<ipython-input-13-785020cee48f>\"\u001b[1;36m, line \u001b[1;32m5\u001b[0m\n\u001b[1;33m    python3 model_main_tf2.py -- \\\u001b[0m\n\u001b[1;37m            ^\u001b[0m\n\u001b[1;31mSyntaxError\u001b[0m\u001b[1;31m:\u001b[0m invalid syntax\n"
     ]
    }
   ],
   "source": [
    "PIPELINE_CONFIG_PATH=\"C:/Users/Raihan/computerVision/models/research/object_detection/samples/configs/ssd_mobilenet_v2_coco.config\"\n",
    "MODEL_DIR=\"C:/Users/Raihan/computerVision/models/research/object_detection/mode_outputs/\"\n",
    "NUM_TRAIN_STEPS=10000\n",
    "SAMPLE_1_OF_N_EVAL_EXAMPLES=1\n",
    "python3 model_main_tf2.py -- \\\n",
    "  --model_dir=$MODEL_DIR --num_train_steps=$NUM_TRAIN_STEPS \\\n",
    "  --sample_1_of_n_eval_examples=$SAMPLE_1_OF_N_EVAL_EXAMPLES \\\n",
    "  --pipeline_config_path=$PIPELINE_CONFIG_PATH \\\n",
    "  --alsologtostderr"
   ]
  },
  {
   "cell_type": "code",
   "execution_count": null,
   "id": "3313c81b",
   "metadata": {},
   "outputs": [],
   "source": []
  },
  {
   "cell_type": "code",
   "execution_count": null,
   "id": "69c8dfaf",
   "metadata": {},
   "outputs": [],
   "source": []
  }
 ],
 "metadata": {
  "kernelspec": {
   "display_name": "Python 3",
   "language": "python",
   "name": "python3"
  },
  "language_info": {
   "codemirror_mode": {
    "name": "ipython",
    "version": 3
   },
   "file_extension": ".py",
   "mimetype": "text/x-python",
   "name": "python",
   "nbconvert_exporter": "python",
   "pygments_lexer": "ipython3",
   "version": "3.9.2"
  }
 },
 "nbformat": 4,
 "nbformat_minor": 5
}
